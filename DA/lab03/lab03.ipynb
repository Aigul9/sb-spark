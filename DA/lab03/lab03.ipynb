{
 "cells": [
  {
   "cell_type": "code",
   "execution_count": 4,
   "metadata": {},
   "outputs": [
    {
     "name": "stdout",
     "output_type": "stream",
     "text": [
      "Welcome to\n",
      "      ____              __\n",
      "     / __/__  ___ _____/ /__\n",
      "    _\\ \\/ _ \\/ _ `/ __/  '_/\n",
      "   /__ / .__/\\_,_/_/ /_/\\_\\   version 2.4.7\n",
      "      /_/\n",
      "\n",
      "Using Python version 3.6.5 (default, Apr 29 2018 16:14:56)\n",
      "SparkSession available as 'spark'.\n"
     ]
    }
   ],
   "source": [
    "import os\n",
    "import sys\n",
    "os.environ[\"PYSPARK_PYTHON\"]='/opt/anaconda/envs/bd9/bin/python'\n",
    "os.environ[\"SPARK_HOME\"]='/usr/hdp/current/spark2-client'\n",
    "os.environ[\"PYSPARK_SUBMIT_ARGS\"]='--num-executors 10 --executor-cores 3 --executor-memory 4g --driver-memory 5g --conf spark.yarn.executor.memoryOverhead=400 pyspark-shell'\n",
    "\n",
    "spark_home = os.environ.get('SPARK_HOME', None)\n",
    "if not spark_home:\n",
    "    raise ValueError('SPARK_HOME environment variable is not set')\n",
    "\n",
    "sys.path.insert(0, os.path.join(spark_home, 'python'))\n",
    "sys.path.insert(0, os.path.join(spark_home, 'python/lib/py4j-0.10.7-src.zip'))\n",
    "exec(open(os.path.join(spark_home, 'python/pyspark/shell.py')).read())"
   ]
  },
  {
   "cell_type": "code",
   "execution_count": 5,
   "metadata": {},
   "outputs": [],
   "source": [
    "from pyspark import SparkConf\n",
    "from pyspark.ml import Pipeline\n",
    "from pyspark.ml.feature import Tokenizer, HashingTF, IDF, StopWordsRemover\n",
    "from pyspark.sql import SparkSession\n",
    "from pyspark.sql import functions as F\n",
    "from pyspark.sql.types import *\n",
    "from pyspark.sql.window import Window\n",
    "from pyspark import Row\n",
    "import json\n",
    "\n",
    "conf = SparkConf()\n",
    "\n",
    "spark = (SparkSession\n",
    "         .builder\n",
    "         .config(conf=conf)\n",
    "         .appName(\"lab03_sai\")\n",
    "         .getOrCreate())"
   ]
  },
  {
   "cell_type": "code",
   "execution_count": 6,
   "metadata": {},
   "outputs": [
    {
     "data": {
      "text/html": [
       "\n",
       "            <div>\n",
       "                <p><b>SparkSession - hive</b></p>\n",
       "                \n",
       "        <div>\n",
       "            <p><b>SparkContext</b></p>\n",
       "\n",
       "            <p><a href=\"http://spark-master-4.newprolab.com:4042\">Spark UI</a></p>\n",
       "\n",
       "            <dl>\n",
       "              <dt>Version</dt>\n",
       "                <dd><code>v2.4.7</code></dd>\n",
       "              <dt>Master</dt>\n",
       "                <dd><code>yarn</code></dd>\n",
       "              <dt>AppName</dt>\n",
       "                <dd><code>pyspark-shell</code></dd>\n",
       "            </dl>\n",
       "        </div>\n",
       "        \n",
       "            </div>\n",
       "        "
      ],
      "text/plain": [
       "<pyspark.sql.session.SparkSession at 0x7f62dc1008d0>"
      ]
     },
     "execution_count": 6,
     "metadata": {},
     "output_type": "execute_result"
    }
   ],
   "source": [
    "spark"
   ]
  },
  {
   "cell_type": "code",
   "execution_count": 383,
   "metadata": {},
   "outputs": [],
   "source": [
    "spark.stop()"
   ]
  },
  {
   "cell_type": "code",
   "execution_count": 4,
   "metadata": {},
   "outputs": [
    {
     "name": "stdout",
     "output_type": "stream",
     "text": [
      "Found 4 items\r\n",
      "-rw-r--r--   3 hdfs hdfs   91066524 2022-01-06 18:46 /labs/slaba03/laba03_items.csv\r\n",
      "-rw-r--r--   3 hdfs hdfs   29965581 2022-01-06 18:46 /labs/slaba03/laba03_test.csv\r\n",
      "-rw-r--r--   3 hdfs hdfs   74949368 2022-01-06 18:46 /labs/slaba03/laba03_train.csv\r\n",
      "-rw-r--r--   3 hdfs hdfs  871302535 2022-01-06 18:46 /labs/slaba03/laba03_views_programmes.csv\r\n"
     ]
    }
   ],
   "source": [
    "!hdfs dfs -ls /labs/slaba03/"
   ]
  },
  {
   "cell_type": "code",
   "execution_count": 9,
   "metadata": {},
   "outputs": [
    {
     "name": "stdout",
     "output_type": "stream",
     "text": [
      "user_id,item_id,purchase\r\n",
      "1654,74107,0\r\n",
      "1654,89249,0\r\n",
      "cat: Unable to write to output stream.\r\n"
     ]
    }
   ],
   "source": [
    "!hdfs dfs -cat /labs/slaba03/laba03_train.csv | head -3"
   ]
  },
  {
   "cell_type": "code",
   "execution_count": 10,
   "metadata": {},
   "outputs": [
    {
     "name": "stdout",
     "output_type": "stream",
     "text": [
      "item_id\tchannel_id\tdatetime_availability_start\tdatetime_availability_stop\tdatetime_show_start\tdatetime_show_stop\tcontent_type\ttitle\tyear\tgenres\tregion_id\r\n",
      "65667\t\t1970-01-01T00:00:00Z\t2018-01-01T00:00:00Z\t\t\t1\tна пробах только девушки (all girl auditions)\t2013.0\tЭротика\t\r\n",
      "65669\t\t1970-01-01T00:00:00Z\t2018-01-01T00:00:00Z\t\t\t1\tскуби ду: эротическая пародия (scooby doo: a xxx parody)\t2011.0\tЭротика\t\r\n",
      "cat: Unable to write to output stream.\r\n"
     ]
    }
   ],
   "source": [
    "!hdfs dfs -cat /labs/slaba03/laba03_items.csv | head -3"
   ]
  },
  {
   "cell_type": "code",
   "execution_count": 11,
   "metadata": {},
   "outputs": [
    {
     "name": "stdout",
     "output_type": "stream",
     "text": [
      "user_id,item_id,purchase\r\n",
      "1654,94814,\r\n",
      "1654,93629,\r\n",
      "cat: Unable to write to output stream.\r\n"
     ]
    }
   ],
   "source": [
    "!hdfs dfs -cat /labs/slaba03/laba03_test.csv | head -3"
   ]
  },
  {
   "cell_type": "code",
   "execution_count": 12,
   "metadata": {},
   "outputs": [
    {
     "name": "stdout",
     "output_type": "stream",
     "text": [
      "user_id,item_id,ts_start,ts_end,item_type\r\n",
      "0,7101053,1491409931,1491411600,live\r\n",
      "0,7101054,1491412481,1491451571,live\r\n",
      "cat: Unable to write to output stream.\r\n"
     ]
    }
   ],
   "source": [
    "!hdfs dfs -cat /labs/slaba03/laba03_views_programmes.csv | head -3"
   ]
  },
  {
   "cell_type": "code",
   "execution_count": null,
   "metadata": {},
   "outputs": [],
   "source": [
    "# content_type = 1, жанры через запятую, ts-end-"
   ]
  },
  {
   "cell_type": "code",
   "execution_count": 7,
   "metadata": {},
   "outputs": [],
   "source": [
    "train = (\n",
    "    spark\n",
    "    .read\n",
    "    .option(\"header\", True)\n",
    "    .schema(StructType([\n",
    "        StructField(\"user_id\", IntegerType(), True),\n",
    "        StructField(\"item_id\", IntegerType(), True),\n",
    "        StructField(\"purchase\", IntegerType(), True)\n",
    "    ]))\n",
    "    .csv(\"/labs/slaba03/laba03_train.csv\")\n",
    "    .cache()\n",
    ")"
   ]
  },
  {
   "cell_type": "code",
   "execution_count": 8,
   "metadata": {},
   "outputs": [
    {
     "data": {
      "text/plain": [
       "5032624"
      ]
     },
     "execution_count": 8,
     "metadata": {},
     "output_type": "execute_result"
    }
   ],
   "source": [
    "train.count()"
   ]
  },
  {
   "cell_type": "code",
   "execution_count": 9,
   "metadata": {},
   "outputs": [],
   "source": [
    "items = (\n",
    "    spark\n",
    "    .read\n",
    "    .option(\"header\", True)\n",
    "    .schema(StructType([\n",
    "        StructField(\"item_id\", IntegerType()),\n",
    "        StructField(\"channel_id\", IntegerType()),\n",
    "        StructField(\"datetime_availability_start\", StringType()),\n",
    "        StructField(\"datetime_availability_stop\", StringType()),\n",
    "        StructField(\"datetime_show_start\", StringType()),\n",
    "        StructField(\"datetime_show_stop\", StringType()),\n",
    "        StructField(\"content_type\", IntegerType()),\n",
    "        StructField(\"title\", StringType(), True),\n",
    "        StructField(\"year\", FloatType(), True),\n",
    "        StructField(\"genres\", StringType()),\n",
    "        StructField(\"region_id\", IntegerType())\n",
    "    ]))\n",
    "    .option(\"delimiter\", \"\\t\")\n",
    "    .csv(\"/labs/slaba03/laba03_items.csv\")\n",
    "    .cache()\n",
    ")"
   ]
  },
  {
   "cell_type": "code",
   "execution_count": 10,
   "metadata": {},
   "outputs": [
    {
     "data": {
      "text/plain": [
       "635568"
      ]
     },
     "execution_count": 10,
     "metadata": {},
     "output_type": "execute_result"
    }
   ],
   "source": [
    "items.count()"
   ]
  },
  {
   "cell_type": "code",
   "execution_count": 265,
   "metadata": {},
   "outputs": [
    {
     "name": "stdout",
     "output_type": "stream",
     "text": [
      "+-------+----------+---------------------------+--------------------------+-------------------+------------------+------------+--------------------+------+------+---------+\n",
      "|item_id|channel_id|datetime_availability_start|datetime_availability_stop|datetime_show_start|datetime_show_stop|content_type|               title|  year|genres|region_id|\n",
      "+-------+----------+---------------------------+--------------------------+-------------------+------------------+------------+--------------------+------+------+---------+\n",
      "|   6151|      null|       1970-01-01T00:00:00Z|      2018-01-01T00:00:00Z|               null|              null|           1|              родина|2011.0|  null|     null|\n",
      "|   9055|      null|       1970-01-01T00:00:00Z|      2018-01-01T00:00:00Z|               null|              null|           1|американская исто...|2011.0|  null|     null|\n",
      "+-------+----------+---------------------------+--------------------------+-------------------+------------------+------------+--------------------+------+------+---------+\n",
      "only showing top 2 rows\n",
      "\n"
     ]
    }
   ],
   "source": [
    "items.where(\"genres is null\").show(2)"
   ]
  },
  {
   "cell_type": "code",
   "execution_count": 11,
   "metadata": {},
   "outputs": [],
   "source": [
    "fill = F.array().cast(\"array<string>\")"
   ]
  },
  {
   "cell_type": "code",
   "execution_count": 12,
   "metadata": {},
   "outputs": [],
   "source": [
    "items = (\n",
    "    items\n",
    "    .where(\"content_type = 1\")\n",
    ")"
   ]
  },
  {
   "cell_type": "code",
   "execution_count": 13,
   "metadata": {},
   "outputs": [],
   "source": [
    "test = (\n",
    "    spark\n",
    "    .read\n",
    "    .option(\"header\", True)\n",
    "    .schema(StructType([\n",
    "        StructField(\"user_id\", IntegerType(), True),\n",
    "        StructField(\"item_id\", IntegerType(), True)\n",
    "    ]))\n",
    "    .csv(\"/labs/slaba03/laba03_test.csv\")\n",
    "    .cache()\n",
    ")"
   ]
  },
  {
   "cell_type": "code",
   "execution_count": 14,
   "metadata": {},
   "outputs": [
    {
     "data": {
      "text/plain": [
       "2156840"
      ]
     },
     "execution_count": 14,
     "metadata": {},
     "output_type": "execute_result"
    }
   ],
   "source": [
    "test.count()"
   ]
  },
  {
   "cell_type": "code",
   "execution_count": 15,
   "metadata": {},
   "outputs": [],
   "source": [
    "views = (\n",
    "    spark\n",
    "    .read\n",
    "    .option(\"header\", True)\n",
    "    .schema(StructType([\n",
    "        StructField(\"user_id\", IntegerType()),\n",
    "        StructField(\"item_id\", IntegerType()),\n",
    "        StructField(\"ts_start\", IntegerType()),\n",
    "        StructField(\"ts_end\", IntegerType()),\n",
    "        StructField(\"item_type\", StringType())\n",
    "    ]))\n",
    "    .csv(\"/labs/slaba03/laba03_views_programmes.csv\")\n",
    "    .cache()\n",
    ")"
   ]
  },
  {
   "cell_type": "code",
   "execution_count": 16,
   "metadata": {},
   "outputs": [
    {
     "data": {
      "text/plain": [
       "20845607"
      ]
     },
     "execution_count": 16,
     "metadata": {},
     "output_type": "execute_result"
    }
   ],
   "source": [
    "views.count()"
   ]
  },
  {
   "cell_type": "code",
   "execution_count": 78,
   "metadata": {},
   "outputs": [
    {
     "name": "stdout",
     "output_type": "stream",
     "text": [
      "+-------+-------+--------+\n",
      "|user_id|item_id|purchase|\n",
      "+-------+-------+--------+\n",
      "|   1654|  74107|       0|\n",
      "+-------+-------+--------+\n",
      "only showing top 1 row\n",
      "\n"
     ]
    }
   ],
   "source": [
    "train.show(1)"
   ]
  },
  {
   "cell_type": "code",
   "execution_count": 151,
   "metadata": {},
   "outputs": [
    {
     "name": "stdout",
     "output_type": "stream",
     "text": [
      "+--------------------------------------------------------------------------+\n",
      "|genres                                                                    |\n",
      "+--------------------------------------------------------------------------+\n",
      "|Ужасы                                                                     |\n",
      "|Драмы,Зарубежные,Спорт                                                    |\n",
      "|Для детей,Наши                                                            |\n",
      "|Детективы,Триллеры,Драмы,Фантастика                                       |\n",
      "|Мистические,Приключения,Драмы,Мелодрамы,Зарубежные                        |\n",
      "|Приключения,Советское кино,Исторические,Русские,Для всей семьи,Музыкальные|\n",
      "|Русские мультфильмы,Про животных,Для всей семьи,Для детей                 |\n",
      "|Западные мультфильмы,Сериалы,Для детей,Зарубежные                         |\n",
      "|Военные,Приключения,Драмы                                                 |\n",
      "|Комедии,Советское кино,Экранизации,Мелодрамы,Для всей семьи               |\n",
      "|Документальные,Зарубежные,Биография                                       |\n",
      "|Ужасы,Русские                                                             |\n",
      "|Ужасы,Приключения,Драмы,Зарубежные                                        |\n",
      "|Приключения,Драмы                                                         |\n",
      "|Юмористические,Комедии                                                    |\n",
      "|Мистические,Ужасы,Триллеры                                                |\n",
      "|Детективы,Драмы,Боевики                                                   |\n",
      "|Советское кино,Драмы                                                      |\n",
      "|Исторические,Документальные,Спортивные                                    |\n",
      "|Исторические,Познавательные,Документальные                                |\n",
      "+--------------------------------------------------------------------------+\n",
      "only showing top 20 rows\n",
      "\n"
     ]
    }
   ],
   "source": [
    "items.select(\"genres\").distinct().show(truncate=False)"
   ]
  },
  {
   "cell_type": "code",
   "execution_count": 199,
   "metadata": {},
   "outputs": [
    {
     "name": "stdout",
     "output_type": "stream",
     "text": [
      "+-------+----------+---------------------------+--------------------------+-------------------+------------------+------------+--------------------+------+--------------------+---------+-----------+--------------------+--------------------+\n",
      "|item_id|channel_id|datetime_availability_start|datetime_availability_stop|datetime_show_start|datetime_show_stop|content_type|               title|  year|              genres|region_id|first_genre|          all_genres|         prep_genres|\n",
      "+-------+----------+---------------------------+--------------------------+-------------------+------------------+------------+--------------------+------+--------------------+---------+-----------+--------------------+--------------------+\n",
      "|  65667|      null|       1970-01-01T00:00:00Z|      2018-01-01T00:00:00Z|               null|              null|           1|на пробах только ...|2013.0|             Эротика|     null|    эротика|           [эротика]|           [эротика]|\n",
      "|  65669|      null|       1970-01-01T00:00:00Z|      2018-01-01T00:00:00Z|               null|              null|           1|скуби ду: эротиче...|2011.0|             Эротика|     null|    эротика|           [эротика]|           [эротика]|\n",
      "|  65668|      null|       1970-01-01T00:00:00Z|      2018-01-01T00:00:00Z|               null|              null|           1|горячие девочки д...|2011.0|             Эротика|     null|    эротика|           [эротика]|           [эротика]|\n",
      "|  65671|      null|       1970-01-01T00:00:00Z|      2018-01-01T00:00:00Z|               null|              null|           1|соблазнительницы ...|2011.0|             Эротика|     null|    эротика|           [эротика]|           [эротика]|\n",
      "|  65670|      null|       1970-01-01T00:00:00Z|      2018-01-01T00:00:00Z|               null|              null|           1|секретные секс-ма...|2010.0|             Эротика|     null|    эротика|           [эротика]|           [эротика]|\n",
      "|  65809|      null|       1970-01-01T00:00:00Z|      2099-12-31T21:00:00Z|               null|              null|           1|      все о мужчинах|2016.0|             Комедии|     null|    комедии|           [комедии]|           [комедии]|\n",
      "|  65810|      null|       1970-01-01T00:00:00Z|      2099-12-31T21:00:00Z|               null|              null|           1|8 лучших свиданий...|2016.0|   Комедии,Мелодрамы|     null|    комедии|[комедии, мелодрамы]|[комедии, мелодрамы]|\n",
      "|    326|      null|       1970-01-01T00:00:00Z|      2099-12-31T21:00:00Z|               null|              null|           1|            византия|2012.0|Ужасы,Триллеры,Др...|     null|      ужасы|[ужасы, триллеры,...|[ужасы, триллеры,...|\n",
      "|    336|      null|       1970-01-01T00:00:00Z|      2099-12-31T21:00:00Z|               null|              null|           1|девственники, бер...|2012.0|Ужасы,Комедии,Фан...|     null|      ужасы|[ужасы, комедии, ...|[ужасы, комедии, ...|\n",
      "|    357|      null|       1970-01-01T00:00:00Z|      2099-12-31T21:00:00Z|               null|              null|           1|   8 первых свиданий|2012.0|Комедии,Мелодрамы...|     null|    комедии|[комедии, мелодра...|[комедии, мелодра...|\n",
      "+-------+----------+---------------------------+--------------------------+-------------------+------------------+------------+--------------------+------+--------------------+---------+-----------+--------------------+--------------------+\n",
      "only showing top 10 rows\n",
      "\n"
     ]
    }
   ],
   "source": [
    "items.show(10)"
   ]
  },
  {
   "cell_type": "code",
   "execution_count": 200,
   "metadata": {},
   "outputs": [
    {
     "name": "stdout",
     "output_type": "stream",
     "text": [
      "+-------+----------+---------------------------+--------------------------+-------------------+------------------+------------+--------------------+------+------+---------+-----------+----------+-----------+\n",
      "|item_id|channel_id|datetime_availability_start|datetime_availability_stop|datetime_show_start|datetime_show_stop|content_type|               title|  year|genres|region_id|first_genre|all_genres|prep_genres|\n",
      "+-------+----------+---------------------------+--------------------------+-------------------+------------------+------------+--------------------+------+------+---------+-----------+----------+-----------+\n",
      "|   6151|      null|       1970-01-01T00:00:00Z|      2018-01-01T00:00:00Z|               null|              null|           1|              родина|2011.0|  null|     null|       null|        []|       null|\n",
      "|   9055|      null|       1970-01-01T00:00:00Z|      2018-01-01T00:00:00Z|               null|              null|           1|американская исто...|2011.0|  null|     null|       null|        []|       null|\n",
      "+-------+----------+---------------------------+--------------------------+-------------------+------------------+------------+--------------------+------+------+---------+-----------+----------+-----------+\n",
      "only showing top 2 rows\n",
      "\n"
     ]
    }
   ],
   "source": [
    "items.where(\"prep_genres is null\").show(2)"
   ]
  },
  {
   "cell_type": "code",
   "execution_count": 80,
   "metadata": {},
   "outputs": [
    {
     "name": "stdout",
     "output_type": "stream",
     "text": [
      "+-------+-------+\n",
      "|user_id|item_id|\n",
      "+-------+-------+\n",
      "|   1654|  94814|\n",
      "+-------+-------+\n",
      "only showing top 1 row\n",
      "\n"
     ]
    }
   ],
   "source": [
    "test.show(1)"
   ]
  },
  {
   "cell_type": "code",
   "execution_count": 81,
   "metadata": {},
   "outputs": [
    {
     "name": "stdout",
     "output_type": "stream",
     "text": [
      "+-------+-------+----------+----------+---------+\n",
      "|user_id|item_id|  ts_start|    ts_end|item_type|\n",
      "+-------+-------+----------+----------+---------+\n",
      "|      0|7101053|1491409931|1491411600|     live|\n",
      "+-------+-------+----------+----------+---------+\n",
      "only showing top 1 row\n",
      "\n"
     ]
    }
   ],
   "source": [
    "views.show(1)"
   ]
  },
  {
   "cell_type": "code",
   "execution_count": 61,
   "metadata": {},
   "outputs": [
    {
     "name": "stdout",
     "output_type": "stream",
     "text": [
      "root\n",
      " |-- user_id: integer (nullable = true)\n",
      " |-- item_id: integer (nullable = true)\n",
      " |-- purchase: integer (nullable = true)\n",
      "\n"
     ]
    }
   ],
   "source": [
    "train.printSchema()"
   ]
  },
  {
   "cell_type": "code",
   "execution_count": 70,
   "metadata": {},
   "outputs": [
    {
     "name": "stdout",
     "output_type": "stream",
     "text": [
      "root\n",
      " |-- item_id: integer (nullable = true)\n",
      " |-- channel_id: integer (nullable = true)\n",
      " |-- datetime_availability_start: string (nullable = true)\n",
      " |-- datetime_availability_stop: string (nullable = true)\n",
      " |-- datetime_show_start: string (nullable = true)\n",
      " |-- datetime_show_stop: string (nullable = true)\n",
      " |-- content_type: integer (nullable = true)\n",
      " |-- title: string (nullable = true)\n",
      " |-- year: float (nullable = true)\n",
      " |-- genres: string (nullable = true)\n",
      " |-- region_id: integer (nullable = true)\n",
      "\n"
     ]
    }
   ],
   "source": [
    "items.printSchema()"
   ]
  },
  {
   "cell_type": "code",
   "execution_count": 64,
   "metadata": {},
   "outputs": [
    {
     "name": "stdout",
     "output_type": "stream",
     "text": [
      "root\n",
      " |-- user_id: integer (nullable = true)\n",
      " |-- item_id: integer (nullable = true)\n",
      "\n"
     ]
    }
   ],
   "source": [
    "test.printSchema()"
   ]
  },
  {
   "cell_type": "code",
   "execution_count": 76,
   "metadata": {},
   "outputs": [
    {
     "name": "stdout",
     "output_type": "stream",
     "text": [
      "root\n",
      " |-- user_id: integer (nullable = true)\n",
      " |-- item_id: integer (nullable = true)\n",
      " |-- ts_start: integer (nullable = true)\n",
      " |-- ts_end: integer (nullable = true)\n",
      " |-- item_type: string (nullable = true)\n",
      "\n"
     ]
    }
   ],
   "source": [
    "views.printSchema()"
   ]
  },
  {
   "cell_type": "code",
   "execution_count": 17,
   "metadata": {},
   "outputs": [],
   "source": [
    "from pyspark.ml.classification import GBTClassifier\n",
    "from pyspark.ml import Pipeline\n",
    "from pyspark.ml.feature import CountVectorizer, VectorAssembler\n",
    "from pyspark.ml.pipeline import PipelineModel"
   ]
  },
  {
   "cell_type": "code",
   "execution_count": 18,
   "metadata": {},
   "outputs": [],
   "source": [
    "df_user_stat = (\n",
    "    train\n",
    "    .groupBy(\"user_id\")\n",
    "    .agg(\n",
    "        F.count(\"purchase\").alias(\"user_count\"),\n",
    "        F.sum(\"purchase\").alias(\"user_sum\"),\n",
    "        F.mean(\"purchase\").alias(\"user_avg\")\n",
    "    )\n",
    ")"
   ]
  },
  {
   "cell_type": "code",
   "execution_count": 19,
   "metadata": {},
   "outputs": [],
   "source": [
    "df_item_stat = (\n",
    "    train\n",
    "    .groupBy(\"item_id\")\n",
    "    .agg(\n",
    "        F.count(\"purchase\").alias(\"item_count\"),\n",
    "        F.sum(\"purchase\").alias(\"item_sum\"),\n",
    "        F.mean(\"purchase\").alias(\"item_avg\")\n",
    "    )\n",
    ")"
   ]
  },
  {
   "cell_type": "code",
   "execution_count": 20,
   "metadata": {},
   "outputs": [],
   "source": [
    "df_user_stat_views = (\n",
    "    views\n",
    "    .withColumn(\"duration\", F.col(\"ts_end\") - F.col(\"ts_start\"))\n",
    "    .groupBy(\"user_id\")\n",
    "    .agg(\n",
    "        F.count(\"user_id\").alias(\"user_views_count\"),\n",
    "        F.sum(\"duration\").alias(\"user_duration_sum\"),\n",
    "        F.min(\"duration\").alias(\"user_duration_min\"),\n",
    "        F.max(\"duration\").alias(\"user_duration_max\"),\n",
    "        F.mean(\"duration\").alias(\"user_duration_avg\"),\n",
    "    )\n",
    ")"
   ]
  },
  {
   "cell_type": "code",
   "execution_count": 21,
   "metadata": {},
   "outputs": [],
   "source": [
    "df_user_stat_views_live = (\n",
    "    views\n",
    "    .where(\"item_type = 'live'\")\n",
    "    .withColumn(\"duration\", F.col(\"ts_end\") - F.col(\"ts_start\"))\n",
    "    .groupBy(\"user_id\")\n",
    "    .agg(\n",
    "        F.count(\"user_id\").alias(\"user_views_live_count\"),\n",
    "        F.sum(\"duration\").alias(\"user_duration_live_sum\"),\n",
    "        F.min(\"duration\").alias(\"user_duration_live_min\"),\n",
    "        F.max(\"duration\").alias(\"user_duration_live_max\"),\n",
    "        F.mean(\"duration\").alias(\"user_duration_live_avg\"),\n",
    "    )\n",
    ")"
   ]
  },
  {
   "cell_type": "code",
   "execution_count": 22,
   "metadata": {},
   "outputs": [],
   "source": [
    "df_user_stat_views_pvr = (\n",
    "    views\n",
    "    .where(\"item_type = 'pvr'\")\n",
    "    .withColumn(\"duration\", F.col(\"ts_end\") - F.col(\"ts_start\"))\n",
    "    .groupBy(\"user_id\")\n",
    "    .agg(\n",
    "        F.count(\"user_id\").alias(\"user_views_pvr_count\"),\n",
    "        F.sum(\"duration\").alias(\"user_duration_pvr_sum\"),\n",
    "        F.min(\"duration\").alias(\"user_duration_pvr_min\"),\n",
    "        F.max(\"duration\").alias(\"user_duration_pvr_max\"),\n",
    "        F.mean(\"duration\").alias(\"user_duration_pvr_avg\"),\n",
    "    )\n",
    ")"
   ]
  },
  {
   "cell_type": "code",
   "execution_count": 23,
   "metadata": {},
   "outputs": [],
   "source": [
    "train_df = (\n",
    "    train\n",
    "    .join(items, \"item_id\", \"left\")\n",
    "    .join(df_user_stat, \"user_id\", \"left\")\n",
    "    .join(df_item_stat, \"item_id\", \"left\")\n",
    "    .join(df_user_stat_views, \"user_id\", \"left\")\n",
    "    .join(df_user_stat_views_live, \"user_id\", \"left\")\n",
    "    .join(df_user_stat_views_pvr, \"user_id\", \"left\")\n",
    "    .withColumn(\"all_genres\", F.split(F.lower(F.trim(F.coalesce(F.col(\"genres\"), F.lit(\"\")))), \",\"))\n",
    "    .na.fill(0)\n",
    ")"
   ]
  },
  {
   "cell_type": "code",
   "execution_count": 24,
   "metadata": {},
   "outputs": [],
   "source": [
    "test_df = (\n",
    "    test\n",
    "    .join(items, \"item_id\", \"left\")\n",
    "    .join(df_user_stat, \"user_id\", \"left\")\n",
    "    .join(df_item_stat, \"item_id\", \"left\")\n",
    "    .join(df_user_stat_views, \"user_id\", \"left\")\n",
    "    .join(df_user_stat_views_live, \"user_id\", \"left\")\n",
    "    .join(df_user_stat_views_pvr, \"user_id\", \"left\")\n",
    "    .withColumn(\"all_genres\", F.split(F.lower(F.trim(F.coalesce(F.col(\"genres\"), F.lit(\"\")))), \",\"))\n",
    "    .na.fill(0)\n",
    ")"
   ]
  },
  {
   "cell_type": "code",
   "execution_count": 25,
   "metadata": {},
   "outputs": [
    {
     "data": {
      "text/plain": [
       "['user_count',\n",
       " 'user_sum',\n",
       " 'user_avg',\n",
       " 'item_count',\n",
       " 'item_sum',\n",
       " 'item_avg',\n",
       " 'user_views_count',\n",
       " 'user_duration_sum',\n",
       " 'user_duration_min',\n",
       " 'user_duration_max',\n",
       " 'user_duration_avg',\n",
       " 'user_views_live_count',\n",
       " 'user_duration_live_sum',\n",
       " 'user_duration_live_min',\n",
       " 'user_duration_live_max',\n",
       " 'user_duration_live_avg',\n",
       " 'user_views_pvr_count',\n",
       " 'user_duration_pvr_sum',\n",
       " 'user_duration_pvr_min',\n",
       " 'user_duration_pvr_max',\n",
       " 'user_duration_pvr_avg',\n",
       " 'genres_vector']"
      ]
     },
     "execution_count": 25,
     "metadata": {},
     "output_type": "execute_result"
    }
   ],
   "source": [
    "cols = [\n",
    "    'user_count',\n",
    "    'user_sum',\n",
    "    'user_avg',\n",
    "    'item_count',\n",
    "    'item_sum',\n",
    "    'item_avg',\n",
    "    'user_views_count',\n",
    "    'user_duration_sum',\n",
    "    'user_duration_min',\n",
    "    'user_duration_max',\n",
    "    'user_duration_avg',\n",
    "    'user_views_live_count',\n",
    "    'user_duration_live_sum',\n",
    "    'user_duration_live_min',\n",
    "    'user_duration_live_max',\n",
    "    'user_duration_live_avg',\n",
    "    'user_views_pvr_count',\n",
    "    'user_duration_pvr_sum',\n",
    "    'user_duration_pvr_min',\n",
    "    'user_duration_pvr_max',\n",
    "    'user_duration_pvr_avg',\n",
    "    'genres_vector'\n",
    "]\n",
    "cols"
   ]
  },
  {
   "cell_type": "code",
   "execution_count": 317,
   "metadata": {},
   "outputs": [],
   "source": [
    "count_vectorizer = CountVectorizer(inputCol=\"all_genres\", outputCol=\"genres_vector\")"
   ]
  },
  {
   "cell_type": "code",
   "execution_count": 318,
   "metadata": {},
   "outputs": [],
   "source": [
    "assembler = VectorAssembler(inputCols=cols, outputCol=\"features\")"
   ]
  },
  {
   "cell_type": "code",
   "execution_count": 319,
   "metadata": {},
   "outputs": [],
   "source": [
    "gbt = GBTClassifier(labelCol=\"purchase\", maxDepth=4, minInstancesPerNode=3)"
   ]
  },
  {
   "cell_type": "code",
   "execution_count": 320,
   "metadata": {},
   "outputs": [],
   "source": [
    "pipeline = Pipeline(stages=[\n",
    "    count_vectorizer,\n",
    "    assembler,\n",
    "    gbt\n",
    "])"
   ]
  },
  {
   "cell_type": "code",
   "execution_count": 321,
   "metadata": {},
   "outputs": [],
   "source": [
    "pipeline_model = pipeline.fit(train_df)"
   ]
  },
  {
   "cell_type": "code",
   "execution_count": 323,
   "metadata": {},
   "outputs": [],
   "source": [
    "pipeline_model.write().save(\"tmp/lab03/pipeline_model\")"
   ]
  },
  {
   "cell_type": "code",
   "execution_count": 26,
   "metadata": {},
   "outputs": [],
   "source": [
    "pipeline_model = PipelineModel.load(\"tmp/lab03/pipeline_model\")"
   ]
  },
  {
   "cell_type": "code",
   "execution_count": 27,
   "metadata": {},
   "outputs": [],
   "source": [
    "predictions = pipeline_model.transform(test_df)"
   ]
  },
  {
   "cell_type": "code",
   "execution_count": 365,
   "metadata": {},
   "outputs": [
    {
     "name": "stdout",
     "output_type": "stream",
     "text": [
      "+-------+-------+--------------------------------------------------------------------------------------------------------------------------------------------------------------------------------------------------------------------------------------------------------------------------------------------------------------------+----------------------------------------+-----------------------------------------+----------+\n",
      "|user_id|item_id|features                                                                                                                                                                                                                                                                                                            |rawPrediction                           |probability                              |prediction|\n",
      "+-------+-------+--------------------------------------------------------------------------------------------------------------------------------------------------------------------------------------------------------------------------------------------------------------------------------------------------------------------+----------------------------------------+-----------------------------------------+----------+\n",
      "|754230 |67107  |(105,[0,1,2,3,4,5,6,7,8,9,10,11,12,13,14,15,16,17,18,19,20,21,26,28,29,50],[2611.0,72.0,0.027575641516660282,1376.0,3.0,0.002180232558139535,1164.0,2256455.0,300.0,20256.0,1938.5352233676977,463.0,935592.0,300.0,20256.0,2020.7170626349891,701.0,1320863.0,302.0,8335.0,1884.2553495007132,1.0,1.0,1.0,1.0,1.0])|[1.4029737289151372,-1.4029737289151372]|[0.9429963686367018,0.057003631363298224]|0.0       |\n",
      "+-------+-------+--------------------------------------------------------------------------------------------------------------------------------------------------------------------------------------------------------------------------------------------------------------------------------------------------------------------+----------------------------------------+-----------------------------------------+----------+\n",
      "only showing top 1 row\n",
      "\n"
     ]
    }
   ],
   "source": [
    "predictions.select(\"user_id\", \"item_id\", \"features\", \"rawPrediction\", \"probability\", \"prediction\").show(1, False)"
   ]
  },
  {
   "cell_type": "code",
   "execution_count": 367,
   "metadata": {},
   "outputs": [
    {
     "name": "stdout",
     "output_type": "stream",
     "text": [
      "root\n",
      " |-- user_id: integer (nullable = true)\n",
      " |-- item_id: integer (nullable = true)\n",
      " |-- channel_id: integer (nullable = true)\n",
      " |-- datetime_availability_start: string (nullable = true)\n",
      " |-- datetime_availability_stop: string (nullable = true)\n",
      " |-- datetime_show_start: string (nullable = true)\n",
      " |-- datetime_show_stop: string (nullable = true)\n",
      " |-- content_type: integer (nullable = true)\n",
      " |-- title: string (nullable = true)\n",
      " |-- year: float (nullable = false)\n",
      " |-- genres: string (nullable = true)\n",
      " |-- region_id: integer (nullable = true)\n",
      " |-- first_genre: string (nullable = true)\n",
      " |-- user_count: long (nullable = true)\n",
      " |-- user_sum: long (nullable = true)\n",
      " |-- user_avg: double (nullable = false)\n",
      " |-- item_count: long (nullable = true)\n",
      " |-- item_sum: long (nullable = true)\n",
      " |-- item_avg: double (nullable = false)\n",
      " |-- user_views_count: long (nullable = true)\n",
      " |-- user_duration_sum: long (nullable = true)\n",
      " |-- user_duration_min: integer (nullable = true)\n",
      " |-- user_duration_max: integer (nullable = true)\n",
      " |-- user_duration_avg: double (nullable = false)\n",
      " |-- user_views_live_count: long (nullable = true)\n",
      " |-- user_duration_live_sum: long (nullable = true)\n",
      " |-- user_duration_live_min: integer (nullable = true)\n",
      " |-- user_duration_live_max: integer (nullable = true)\n",
      " |-- user_duration_live_avg: double (nullable = false)\n",
      " |-- user_views_pvr_count: long (nullable = true)\n",
      " |-- user_duration_pvr_sum: long (nullable = true)\n",
      " |-- user_duration_pvr_min: integer (nullable = true)\n",
      " |-- user_duration_pvr_max: integer (nullable = true)\n",
      " |-- user_duration_pvr_avg: double (nullable = false)\n",
      " |-- all_genres: array (nullable = false)\n",
      " |    |-- element: string (containsNull = true)\n",
      " |-- genres_vector: vector (nullable = true)\n",
      " |-- features: vector (nullable = true)\n",
      " |-- rawPrediction: vector (nullable = true)\n",
      " |-- probability: vector (nullable = true)\n",
      " |-- prediction: double (nullable = false)\n",
      "\n"
     ]
    }
   ],
   "source": [
    "predictions.printSchema()"
   ]
  },
  {
   "cell_type": "code",
   "execution_count": 28,
   "metadata": {},
   "outputs": [],
   "source": [
    "first_element = F.udf(lambda v: v.toArray().tolist(), ArrayType(FloatType()))"
   ]
  },
  {
   "cell_type": "code",
   "execution_count": 32,
   "metadata": {},
   "outputs": [],
   "source": [
    "final_df = predictions.select(\"user_id\", \"item_id\", first_element(F.col(\"probability\")).getItem(1).alias(\"purchase\")).cache()"
   ]
  },
  {
   "cell_type": "code",
   "execution_count": 30,
   "metadata": {},
   "outputs": [
    {
     "name": "stdout",
     "output_type": "stream",
     "text": [
      "+-------+-------+-----------+\n",
      "|user_id|item_id|   purchase|\n",
      "+-------+-------+-----------+\n",
      "| 754230|  93486|0.057003632|\n",
      "| 754230|  94819| 0.04769586|\n",
      "| 754230|  73041| 0.04769586|\n",
      "| 754230|  74440| 0.06884378|\n",
      "| 754230|  74452| 0.05287387|\n",
      "+-------+-------+-----------+\n",
      "only showing top 5 rows\n",
      "\n"
     ]
    }
   ],
   "source": [
    "final_df.show(5)"
   ]
  },
  {
   "cell_type": "code",
   "execution_count": 33,
   "metadata": {},
   "outputs": [
    {
     "data": {
      "text/plain": [
       "2156840"
      ]
     },
     "execution_count": 33,
     "metadata": {},
     "output_type": "execute_result"
    }
   ],
   "source": [
    "final_df.count()"
   ]
  },
  {
   "cell_type": "code",
   "execution_count": 34,
   "metadata": {},
   "outputs": [
    {
     "data": {
      "text/plain": [
       "DataFrame[user_id: int, item_id: int, ts_start: int, ts_end: int, item_type: string]"
      ]
     },
     "execution_count": 34,
     "metadata": {},
     "output_type": "execute_result"
    }
   ],
   "source": [
    "views.unpersist()"
   ]
  },
  {
   "cell_type": "code",
   "execution_count": 35,
   "metadata": {},
   "outputs": [
    {
     "data": {
      "text/plain": [
       "DataFrame[user_id: int, item_id: int, purchase: int]"
      ]
     },
     "execution_count": 35,
     "metadata": {},
     "output_type": "execute_result"
    }
   ],
   "source": [
    "train.unpersist()"
   ]
  },
  {
   "cell_type": "code",
   "execution_count": 36,
   "metadata": {},
   "outputs": [
    {
     "data": {
      "text/plain": [
       "DataFrame[item_id: int, channel_id: int, datetime_availability_start: string, datetime_availability_stop: string, datetime_show_start: string, datetime_show_stop: string, content_type: int, title: string, year: float, genres: string, region_id: int, first_genre: string]"
      ]
     },
     "execution_count": 36,
     "metadata": {},
     "output_type": "execute_result"
    }
   ],
   "source": [
    "items.unpersist()"
   ]
  },
  {
   "cell_type": "code",
   "execution_count": 37,
   "metadata": {},
   "outputs": [
    {
     "data": {
      "text/plain": [
       "DataFrame[user_id: int, item_id: int, purchase: int]"
      ]
     },
     "execution_count": 37,
     "metadata": {},
     "output_type": "execute_result"
    }
   ],
   "source": [
    "train.unpersist()"
   ]
  },
  {
   "cell_type": "code",
   "execution_count": 38,
   "metadata": {},
   "outputs": [],
   "source": [
    "res = final_df.toPandas()"
   ]
  },
  {
   "cell_type": "code",
   "execution_count": 39,
   "metadata": {},
   "outputs": [],
   "source": [
    "res = res.sort_values([\"user_id\", \"item_id\"])"
   ]
  },
  {
   "cell_type": "code",
   "execution_count": 43,
   "metadata": {},
   "outputs": [],
   "source": [
    "res.reset_index(inplace=True)"
   ]
  },
  {
   "cell_type": "code",
   "execution_count": 45,
   "metadata": {},
   "outputs": [],
   "source": [
    "res = res.drop(\"index\", axis=1)"
   ]
  },
  {
   "cell_type": "code",
   "execution_count": 49,
   "metadata": {},
   "outputs": [
    {
     "data": {
      "text/html": [
       "<div>\n",
       "<style scoped>\n",
       "    .dataframe tbody tr th:only-of-type {\n",
       "        vertical-align: middle;\n",
       "    }\n",
       "\n",
       "    .dataframe tbody tr th {\n",
       "        vertical-align: top;\n",
       "    }\n",
       "\n",
       "    .dataframe thead th {\n",
       "        text-align: right;\n",
       "    }\n",
       "</style>\n",
       "<table border=\"1\" class=\"dataframe\">\n",
       "  <thead>\n",
       "    <tr style=\"text-align: right;\">\n",
       "      <th></th>\n",
       "      <th>user_id</th>\n",
       "      <th>item_id</th>\n",
       "      <th>purchase</th>\n",
       "    </tr>\n",
       "  </thead>\n",
       "  <tbody>\n",
       "    <tr>\n",
       "      <th>0</th>\n",
       "      <td>1654</td>\n",
       "      <td>336</td>\n",
       "      <td>0.043958</td>\n",
       "    </tr>\n",
       "    <tr>\n",
       "      <th>1</th>\n",
       "      <td>1654</td>\n",
       "      <td>678</td>\n",
       "      <td>0.043958</td>\n",
       "    </tr>\n",
       "  </tbody>\n",
       "</table>\n",
       "</div>"
      ],
      "text/plain": [
       "   user_id  item_id  purchase\n",
       "0     1654      336  0.043958\n",
       "1     1654      678  0.043958"
      ]
     },
     "execution_count": 49,
     "metadata": {},
     "output_type": "execute_result"
    }
   ],
   "source": [
    "res.head(2)"
   ]
  },
  {
   "cell_type": "code",
   "execution_count": 50,
   "metadata": {},
   "outputs": [],
   "source": [
    "res.to_csv(\"lab03.csv\")"
   ]
  },
  {
   "cell_type": "code",
   "execution_count": 51,
   "metadata": {},
   "outputs": [],
   "source": [
    "spark.stop()"
   ]
  },
  {
   "cell_type": "code",
   "execution_count": null,
   "metadata": {},
   "outputs": [],
   "source": []
  }
 ],
 "metadata": {
  "kernelspec": {
   "display_name": "Python 3",
   "language": "python",
   "name": "python3"
  },
  "language_info": {
   "codemirror_mode": {
    "name": "ipython",
    "version": 3
   },
   "file_extension": ".py",
   "mimetype": "text/x-python",
   "name": "python",
   "nbconvert_exporter": "python",
   "pygments_lexer": "ipython3",
   "version": "3.6.5"
  }
 },
 "nbformat": 4,
 "nbformat_minor": 2
}
