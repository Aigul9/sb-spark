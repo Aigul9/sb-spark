{
 "cells": [
  {
   "cell_type": "code",
   "execution_count": 40,
   "metadata": {},
   "outputs": [
    {
     "data": {
      "text/plain": [
       "spark = org.apache.spark.sql.SparkSession@98842a9\n"
      ]
     },
     "metadata": {},
     "output_type": "display_data"
    },
    {
     "data": {
      "text/plain": [
       "org.apache.spark.sql.SparkSession@98842a9"
      ]
     },
     "execution_count": 40,
     "metadata": {},
     "output_type": "execute_result"
    }
   ],
   "source": [
    "val spark = SparkSession.builder()\n",
    ".appName(\"lab05\")\n",
    ".getOrCreate()"
   ]
  },
  {
   "cell_type": "code",
   "execution_count": 2,
   "metadata": {},
   "outputs": [],
   "source": [
    "import org.apache.spark.sql.SparkSession\n",
    "import org.apache.spark.sql.types._\n",
    "import org.apache.spark.sql.functions._\n",
    "import org.apache.spark.sql.Row\n",
    "\n",
    "import sys.process._"
   ]
  },
  {
   "cell_type": "code",
   "execution_count": 3,
   "metadata": {},
   "outputs": [
    {
     "data": {
      "text/plain": [
       "path = /labs/slaba05/\n"
      ]
     },
     "metadata": {},
     "output_type": "display_data"
    },
    {
     "data": {
      "text/plain": [
       "/labs/slaba05/"
      ]
     },
     "execution_count": 3,
     "metadata": {},
     "output_type": "execute_result"
    }
   ],
   "source": [
    "val path = \"/labs/slaba05/\""
   ]
  },
  {
   "cell_type": "code",
   "execution_count": 41,
   "metadata": {},
   "outputs": [
    {
     "data": {
      "text/plain": [
       "train = [_c0: int, ID: int ... 115 more fields]\n"
      ]
     },
     "metadata": {},
     "output_type": "display_data"
    },
    {
     "data": {
      "text/plain": [
       "[_c0: int, ID: int ... 115 more fields]"
      ]
     },
     "execution_count": 41,
     "metadata": {},
     "output_type": "execute_result"
    }
   ],
   "source": [
    "val train = spark.read.option(\"header\", \"true\").option(\"inferSchema\", \"true\").csv(s\"$path/lab05_train.csv\").cache()"
   ]
  },
  {
   "cell_type": "code",
   "execution_count": 42,
   "metadata": {},
   "outputs": [
    {
     "data": {
      "text/plain": [
       "320764"
      ]
     },
     "execution_count": 42,
     "metadata": {},
     "output_type": "execute_result"
    }
   ],
   "source": [
    "train.count()"
   ]
  },
  {
   "cell_type": "code",
   "execution_count": 31,
   "metadata": {},
   "outputs": [
    {
     "name": "stdout",
     "output_type": "stream",
     "text": [
      "-RECORD 0--------------------------------------------\n",
      " _c0                         | 333149                \n",
      " ID                          | 479990                \n",
      " CR_PROD_CNT_IL              | 0                     \n",
      " AMOUNT_RUB_CLO_PRC          | 0.0                   \n",
      " PRC_ACCEPTS_A_EMAIL_LINK    | 0.0                   \n",
      " APP_REGISTR_RGN_CODE        | null                  \n",
      " PRC_ACCEPTS_A_POS           | 0.0                   \n",
      " PRC_ACCEPTS_A_TK            | 0.0                   \n",
      " TURNOVER_DYNAMIC_IL_1M      | 0.0                   \n",
      " CNT_TRAN_AUT_TENDENCY1M     | null                  \n",
      " SUM_TRAN_AUT_TENDENCY1M     | null                  \n",
      " AMOUNT_RUB_SUP_PRC          | 0.0                   \n",
      " PRC_ACCEPTS_A_AMOBILE       | 0.0                   \n",
      " SUM_TRAN_AUT_TENDENCY3M     | null                  \n",
      " CLNT_TRUST_RELATION         | null                  \n",
      " PRC_ACCEPTS_TK              | 0.0                   \n",
      " PRC_ACCEPTS_A_MTP           | 0.0                   \n",
      " REST_DYNAMIC_FDEP_1M        | 0.0                   \n",
      " CNT_TRAN_AUT_TENDENCY3M     | null                  \n",
      " CNT_ACCEPTS_TK              | 0.0                   \n",
      " APP_MARITAL_STATUS          | null                  \n",
      " REST_DYNAMIC_SAVE_3M        | 0.0                   \n",
      " CR_PROD_CNT_VCU             | 0                     \n",
      " REST_AVG_CUR                | 19069.6917166667      \n",
      " CNT_TRAN_MED_TENDENCY1M     | null                  \n",
      " APP_KIND_OF_PROP_HABITATION | null                  \n",
      " CLNT_JOB_POSITION_TYPE      | null                  \n",
      " AMOUNT_RUB_NAS_PRC          | 0.0                   \n",
      " CLNT_JOB_POSITION           | null                  \n",
      " APP_DRIVING_LICENSE         | null                  \n",
      " TRANS_COUNT_SUP_PRC         | 0.0                   \n",
      " APP_EDUCATION               | null                  \n",
      " CNT_TRAN_CLO_TENDENCY1M     | null                  \n",
      " SUM_TRAN_MED_TENDENCY1M     | null                  \n",
      " PRC_ACCEPTS_A_ATM           | 0.0                   \n",
      " PRC_ACCEPTS_MTP             | 0.0                   \n",
      " TRANS_COUNT_NAS_PRC         | 0.0                   \n",
      " APP_TRAVEL_PASS             | null                  \n",
      " CNT_ACCEPTS_MTP             | 0.0                   \n",
      " CR_PROD_CNT_TOVR            | 1                     \n",
      " APP_CAR                     | null                  \n",
      " CR_PROD_CNT_PIL             | 0                     \n",
      " SUM_TRAN_CLO_TENDENCY1M     | null                  \n",
      " APP_POSITION_TYPE           | null                  \n",
      " TURNOVER_CC                 | 0.0                   \n",
      " TRANS_COUNT_ATM_PRC         | 0.981818181818182     \n",
      " AMOUNT_RUB_ATM_PRC          | 0.9264718189135429    \n",
      " TURNOVER_PAYM               | 0.0                   \n",
      " AGE                         | 324                   \n",
      " CNT_TRAN_MED_TENDENCY3M     | null                  \n",
      " CR_PROD_CNT_CC              | 0                     \n",
      " SUM_TRAN_MED_TENDENCY3M     | null                  \n",
      " REST_DYNAMIC_FDEP_3M        | 0.0                   \n",
      " REST_DYNAMIC_IL_1M          | 0.0                   \n",
      " APP_EMP_TYPE                | null                  \n",
      " SUM_TRAN_CLO_TENDENCY3M     | null                  \n",
      " LDEAL_TENOR_MAX             | null                  \n",
      " LDEAL_YQZ_CHRG              | null                  \n",
      " CR_PROD_CNT_CCFP            | 0                     \n",
      " DEAL_YQZ_IR_MAX             | null                  \n",
      " LDEAL_YQZ_COM               | null                  \n",
      " DEAL_YQZ_IR_MIN             | null                  \n",
      " CNT_TRAN_CLO_TENDENCY3M     | null                  \n",
      " REST_DYNAMIC_CUR_1M         | 0.139327197286461     \n",
      " REST_AVG_PAYM               | 0.0                   \n",
      " LDEAL_TENOR_MIN             | null                  \n",
      " LDEAL_AMT_MONTH             | null                  \n",
      " APP_COMP_TYPE               | null                  \n",
      " LDEAL_GRACE_DAYS_PCT_MED    | 0.0                   \n",
      " REST_DYNAMIC_CUR_3M         | 0.24404241658152398   \n",
      " CNT_TRAN_SUP_TENDENCY3M     | null                  \n",
      " TURNOVER_DYNAMIC_CUR_1M     | 0.14429972251526998   \n",
      " REST_DYNAMIC_PAYM_3M        | 0.0                   \n",
      " SUM_TRAN_SUP_TENDENCY3M     | null                  \n",
      " REST_DYNAMIC_IL_3M          | 0.0                   \n",
      " CNT_TRAN_ATM_TENDENCY3M     | 0.351851851851852     \n",
      " CNT_TRAN_ATM_TENDENCY1M     | 0.166666666666667     \n",
      " TURNOVER_DYNAMIC_IL_3M      | 0.0                   \n",
      " SUM_TRAN_ATM_TENDENCY3M     | 0.329320637235633     \n",
      " DEAL_GRACE_DAYS_ACC_S1X1    | 0.0                   \n",
      " AVG_PCT_MONTH_TO_PCLOSE     | null                  \n",
      " DEAL_YWZ_IR_MIN             | 45.0                  \n",
      " SUM_TRAN_SUP_TENDENCY1M     | null                  \n",
      " DEAL_YWZ_IR_MAX             | 45.0                  \n",
      " SUM_TRAN_ATM_TENDENCY1M     | 0.16790105289165602   \n",
      " REST_DYNAMIC_PAYM_1M        | 0.0                   \n",
      " CNT_TRAN_SUP_TENDENCY1M     | null                  \n",
      " DEAL_GRACE_DAYS_ACC_AVG     | 0.0                   \n",
      " TURNOVER_DYNAMIC_CUR_3M     | 0.30374965665416803   \n",
      " PACK                        | 102                   \n",
      " MAX_PCLOSE_DATE             | null                  \n",
      " LDEAL_YQZ_PC                | null                  \n",
      " CLNT_SETUP_TENOR            | 5.48000105784548      \n",
      " DEAL_GRACE_DAYS_ACC_MAX     | 0.0                   \n",
      " TURNOVER_DYNAMIC_PAYM_3M    | 0.0                   \n",
      " LDEAL_DELINQ_PER_MAXYQZ     | null                  \n",
      " TURNOVER_DYNAMIC_PAYM_1M    | 0.0                   \n",
      " CLNT_SALARY_VALUE           | null                  \n",
      " TRANS_AMOUNT_TENDENCY3M     | 0.305106289785464     \n",
      " MED_DEBT_PRC_YQZ            | null                  \n",
      " TRANS_CNT_TENDENCY3M        | 0.34545454545454496   \n",
      " LDEAL_USED_AMT_AVG_YQZ      | null                  \n",
      " REST_DYNAMIC_CC_1M          | 0.0                   \n",
      " LDEAL_USED_AMT_AVG_YWZ      | 1.0                   \n",
      " TURNOVER_DYNAMIC_CC_1M      | 0.0                   \n",
      " AVG_PCT_DEBT_TO_DEAL_AMT    | null                  \n",
      " LDEAL_ACT_DAYS_ACC_PCT_AVG  | 0.0035236081747709704 \n",
      " REST_DYNAMIC_CC_3M          | 0.0                   \n",
      " MED_DEBT_PRC_YWZ            | 0.0                   \n",
      " LDEAL_ACT_DAYS_PCT_TR3      | 0.0                   \n",
      " LDEAL_ACT_DAYS_PCT_AAVG     | 0.0                   \n",
      " LDEAL_DELINQ_PER_MAXYWZ     | 0.0                   \n",
      " TURNOVER_DYNAMIC_CC_3M      | 0.0                   \n",
      " LDEAL_ACT_DAYS_PCT_TR       | 0.0                   \n",
      " LDEAL_ACT_DAYS_PCT_TR4      | 0.0                   \n",
      " LDEAL_ACT_DAYS_PCT_CURR     | 0.0                   \n",
      " TARGET                      | 0                     \n",
      "only showing top 1 row\n",
      "\n"
     ]
    }
   ],
   "source": [
    "train.show(1, 25, true)"
   ]
  },
  {
   "cell_type": "code",
   "execution_count": 53,
   "metadata": {},
   "outputs": [
    {
     "data": {
      "text/plain": [
       "test = [_c0: int, ID: int ... 114 more fields]\n"
      ]
     },
     "metadata": {},
     "output_type": "display_data"
    },
    {
     "data": {
      "text/plain": [
       "[_c0: int, ID: int ... 114 more fields]"
      ]
     },
     "execution_count": 53,
     "metadata": {},
     "output_type": "execute_result"
    }
   ],
   "source": [
    "val test = spark.read.option(\"header\", \"true\").option(\"inferSchema\", \"true\").csv(s\"$path/lab05_test.csv\").cache()"
   ]
  },
  {
   "cell_type": "code",
   "execution_count": 54,
   "metadata": {},
   "outputs": [
    {
     "data": {
      "text/plain": [
       "44399"
      ]
     },
     "execution_count": 54,
     "metadata": {},
     "output_type": "execute_result"
    }
   ],
   "source": [
    "test.count()"
   ]
  },
  {
   "cell_type": "code",
   "execution_count": 36,
   "metadata": {},
   "outputs": [
    {
     "name": "stdout",
     "output_type": "stream",
     "text": [
      "-RECORD 0-----------------------------------------\n",
      " _c0                         | 372289             \n",
      " ID                          | 519130             \n",
      " CR_PROD_CNT_IL              | 0                  \n",
      " AMOUNT_RUB_CLO_PRC          | 0.0                \n",
      " PRC_ACCEPTS_A_EMAIL_LINK    | null               \n",
      " APP_REGISTR_RGN_CODE        | null               \n",
      " PRC_ACCEPTS_A_POS           | null               \n",
      " PRC_ACCEPTS_A_TK            | null               \n",
      " TURNOVER_DYNAMIC_IL_1M      | 0.0                \n",
      " CNT_TRAN_AUT_TENDENCY1M     | null               \n",
      " SUM_TRAN_AUT_TENDENCY1M     | null               \n",
      " AMOUNT_RUB_SUP_PRC          | 0.0                \n",
      " PRC_ACCEPTS_A_AMOBILE       | null               \n",
      " SUM_TRAN_AUT_TENDENCY3M     | null               \n",
      " CLNT_TRUST_RELATION         | null               \n",
      " PRC_ACCEPTS_TK              | null               \n",
      " PRC_ACCEPTS_A_MTP           | null               \n",
      " REST_DYNAMIC_FDEP_1M        | 0.0                \n",
      " CNT_TRAN_AUT_TENDENCY3M     | null               \n",
      " CNT_ACCEPTS_TK              | null               \n",
      " APP_MARITAL_STATUS          | null               \n",
      " REST_DYNAMIC_SAVE_3M        | 1.0                \n",
      " CR_PROD_CNT_VCU             | 0                  \n",
      " REST_AVG_CUR                | 13916.8191         \n",
      " CNT_TRAN_MED_TENDENCY1M     | null               \n",
      " APP_KIND_OF_PROP_HABITATION | null               \n",
      " CLNT_JOB_POSITION_TYPE      | null               \n",
      " AMOUNT_RUB_NAS_PRC          | 0.0                \n",
      " CLNT_JOB_POSITION           | null               \n",
      " APP_DRIVING_LICENSE         | null               \n",
      " TRANS_COUNT_SUP_PRC         | 0.0                \n",
      " APP_EDUCATION               | null               \n",
      " CNT_TRAN_CLO_TENDENCY1M     | null               \n",
      " SUM_TRAN_MED_TENDENCY1M     | null               \n",
      " PRC_ACCEPTS_A_ATM           | null               \n",
      " PRC_ACCEPTS_MTP             | null               \n",
      " TRANS_COUNT_NAS_PRC         | 0.0                \n",
      " APP_TRAVEL_PASS             | null               \n",
      " CNT_ACCEPTS_MTP             | null               \n",
      " CR_PROD_CNT_TOVR            | 0                  \n",
      " APP_CAR                     | null               \n",
      " CR_PROD_CNT_PIL             | 0                  \n",
      " SUM_TRAN_CLO_TENDENCY1M     | null               \n",
      " APP_POSITION_TYPE           | null               \n",
      " TURNOVER_CC                 | 0.0                \n",
      " TRANS_COUNT_ATM_PRC         | 1.0                \n",
      " AMOUNT_RUB_ATM_PRC          | 1.0                \n",
      " TURNOVER_PAYM               | 0.0                \n",
      " AGE                         | 240                \n",
      " CNT_TRAN_MED_TENDENCY3M     | null               \n",
      " CR_PROD_CNT_CC              | 0                  \n",
      " SUM_TRAN_MED_TENDENCY3M     | null               \n",
      " REST_DYNAMIC_FDEP_3M        | 0.0                \n",
      " REST_DYNAMIC_IL_1M          | 0.0                \n",
      " APP_EMP_TYPE                | null               \n",
      " SUM_TRAN_CLO_TENDENCY3M     | null               \n",
      " LDEAL_TENOR_MAX             | null               \n",
      " LDEAL_YQZ_CHRG              | null               \n",
      " CR_PROD_CNT_CCFP            | 0                  \n",
      " DEAL_YQZ_IR_MAX             | null               \n",
      " LDEAL_YQZ_COM               | null               \n",
      " DEAL_YQZ_IR_MIN             | null               \n",
      " CNT_TRAN_CLO_TENDENCY3M     | null               \n",
      " REST_DYNAMIC_CUR_1M         | 0.479789155507046  \n",
      " REST_AVG_PAYM               | 0.0                \n",
      " LDEAL_TENOR_MIN             | null               \n",
      " LDEAL_AMT_MONTH             | null               \n",
      " APP_COMP_TYPE               | null               \n",
      " LDEAL_GRACE_DAYS_PCT_MED    | 0.0                \n",
      " REST_DYNAMIC_CUR_3M         | 1.0                \n",
      " CNT_TRAN_SUP_TENDENCY3M     | null               \n",
      " TURNOVER_DYNAMIC_CUR_1M     | 0.6401123866394111 \n",
      " REST_DYNAMIC_PAYM_3M        | 0.0                \n",
      " SUM_TRAN_SUP_TENDENCY3M     | null               \n",
      " REST_DYNAMIC_IL_3M          | 0.0                \n",
      " CNT_TRAN_ATM_TENDENCY3M     | 1.0                \n",
      " CNT_TRAN_ATM_TENDENCY1M     | null               \n",
      " TURNOVER_DYNAMIC_IL_3M      | 0.0                \n",
      " SUM_TRAN_ATM_TENDENCY3M     | 1.0                \n",
      " DEAL_GRACE_DAYS_ACC_S1X1    | null               \n",
      " AVG_PCT_MONTH_TO_PCLOSE     | null               \n",
      " DEAL_YWZ_IR_MIN             | null               \n",
      " SUM_TRAN_SUP_TENDENCY1M     | null               \n",
      " DEAL_YWZ_IR_MAX             | null               \n",
      " SUM_TRAN_ATM_TENDENCY1M     | null               \n",
      " REST_DYNAMIC_PAYM_1M        | 0.0                \n",
      " CNT_TRAN_SUP_TENDENCY1M     | null               \n",
      " DEAL_GRACE_DAYS_ACC_AVG     | null               \n",
      " TURNOVER_DYNAMIC_CUR_3M     | 1.0                \n",
      " PACK                        | K01                \n",
      " MAX_PCLOSE_DATE             | null               \n",
      " LDEAL_YQZ_PC                | null               \n",
      " CLNT_SETUP_TENOR            | 0.5713989073078449 \n",
      " DEAL_GRACE_DAYS_ACC_MAX     | null               \n",
      " TURNOVER_DYNAMIC_PAYM_3M    | 0.0                \n",
      " LDEAL_DELINQ_PER_MAXYQZ     | null               \n",
      " TURNOVER_DYNAMIC_PAYM_1M    | 0.0                \n",
      " CLNT_SALARY_VALUE           | null               \n",
      " TRANS_AMOUNT_TENDENCY3M     | 1.0                \n",
      " MED_DEBT_PRC_YQZ            | null               \n",
      " TRANS_CNT_TENDENCY3M        | 1.0                \n",
      " LDEAL_USED_AMT_AVG_YQZ      | null               \n",
      " REST_DYNAMIC_CC_1M          | 0.0                \n",
      " LDEAL_USED_AMT_AVG_YWZ      | null               \n",
      " TURNOVER_DYNAMIC_CC_1M      | 0.0                \n",
      " AVG_PCT_DEBT_TO_DEAL_AMT    | null               \n",
      " LDEAL_ACT_DAYS_ACC_PCT_AVG  | null               \n",
      " REST_DYNAMIC_CC_3M          | 0.0                \n",
      " MED_DEBT_PRC_YWZ            | null               \n",
      " LDEAL_ACT_DAYS_PCT_TR3      | null               \n",
      " LDEAL_ACT_DAYS_PCT_AAVG     | null               \n",
      " LDEAL_DELINQ_PER_MAXYWZ     | null               \n",
      " TURNOVER_DYNAMIC_CC_3M      | 0.0                \n",
      " LDEAL_ACT_DAYS_PCT_TR       | null               \n",
      " LDEAL_ACT_DAYS_PCT_TR4      | null               \n",
      " LDEAL_ACT_DAYS_PCT_CURR     | null               \n",
      "only showing top 1 row\n",
      "\n"
     ]
    }
   ],
   "source": [
    "test.show(1, 25, true)"
   ]
  },
  {
   "cell_type": "code",
   "execution_count": 38,
   "metadata": {},
   "outputs": [
    {
     "name": "stdout",
     "output_type": "stream",
     "text": [
      "+------+------+\n",
      "|target| count|\n",
      "+------+------+\n",
      "|     0|294607|\n",
      "|  null|     1|\n",
      "|     1| 26156|\n",
      "+------+------+\n",
      "\n"
     ]
    },
    {
     "data": {
      "text/plain": [
       "lastException: Throwable = null\n"
      ]
     },
     "metadata": {},
     "output_type": "display_data"
    }
   ],
   "source": [
    "train.groupBy($\"target\").count().show"
   ]
  },
  {
   "cell_type": "code",
   "execution_count": 103,
   "metadata": {},
   "outputs": [
    {
     "data": {
      "text/plain": [
       "droppedCols = List(APP_MARITAL_STATUS, APP_KIND_OF_PROP_HABITATION, CLNT_JOB_POSITION_TYPE, CLNT_JOB_POSITION, APP_DRIVING_LICENSE, APP_EDUCATION, APP_TRAVEL_PASS, APP_CAR, APP_POSITION_TYPE, APP_EMP_TYPE, APP_COMP_TYPE, PACK, CLNT_TRUST_RELATION, _c0)\n"
      ]
     },
     "metadata": {},
     "output_type": "display_data"
    },
    {
     "data": {
      "text/plain": [
       "List(APP_MARITAL_STATUS, APP_KIND_OF_PROP_HABITATION, CLNT_JOB_POSITION_TYPE, CLNT_JOB_POSITION, APP_DRIVING_LICENSE, APP_EDUCATION, APP_TRAVEL_PASS, APP_CAR, APP_POSITION_TYPE, APP_EMP_TYPE, APP_COMP_TYPE, PACK, CLNT_TRUST_RELATION, _c0)"
      ]
     },
     "execution_count": 103,
     "metadata": {},
     "output_type": "execute_result"
    }
   ],
   "source": [
    "val droppedCols = Seq(\n",
    "    \"APP_MARITAL_STATUS\",\n",
    "    \"APP_KIND_OF_PROP_HABITATION\",\n",
    "    \"CLNT_JOB_POSITION_TYPE\",\n",
    "    \"CLNT_JOB_POSITION\",\n",
    "    \"APP_DRIVING_LICENSE\",\n",
    "    \"APP_EDUCATION\",\n",
    "    \"APP_TRAVEL_PASS\",\n",
    "    \"APP_CAR\",\n",
    "    \"APP_POSITION_TYPE\",\n",
    "    \"APP_EMP_TYPE\",\n",
    "    \"APP_COMP_TYPE\",\n",
    "    \"PACK\",\n",
    "    \"CLNT_TRUST_RELATION\",\n",
    "    \"_c0\")"
   ]
  },
  {
   "cell_type": "code",
   "execution_count": 105,
   "metadata": {},
   "outputs": [
    {
     "data": {
      "text/plain": [
       "trainCleaned = [ID: int, CR_PROD_CNT_IL: int ... 101 more fields]\n"
      ]
     },
     "metadata": {},
     "output_type": "display_data"
    },
    {
     "data": {
      "text/plain": [
       "[ID: int, CR_PROD_CNT_IL: int ... 101 more fields]"
      ]
     },
     "execution_count": 105,
     "metadata": {},
     "output_type": "execute_result"
    }
   ],
   "source": [
    "var trainCleaned = train\n",
    "    .drop(droppedCols: _*)\n",
    "    .where($\"TARGET\".isNotNull)\n",
    "    .na.fill(-1.0)"
   ]
  },
  {
   "cell_type": "code",
   "execution_count": 106,
   "metadata": {},
   "outputs": [
    {
     "data": {
      "text/plain": [
       "320763"
      ]
     },
     "execution_count": 106,
     "metadata": {},
     "output_type": "execute_result"
    }
   ],
   "source": [
    "trainCleaned.count()"
   ]
  },
  {
   "cell_type": "code",
   "execution_count": 107,
   "metadata": {},
   "outputs": [
    {
     "data": {
      "text/plain": [
       "103"
      ]
     },
     "execution_count": 107,
     "metadata": {},
     "output_type": "execute_result"
    }
   ],
   "source": [
    "trainCleaned.columns.length"
   ]
  },
  {
   "cell_type": "code",
   "execution_count": 77,
   "metadata": {},
   "outputs": [
    {
     "name": "stdout",
     "output_type": "stream",
     "text": [
      "-RECORD 0-------------------------------------------\n",
      " ID                         | 479990                \n",
      " CR_PROD_CNT_IL             | 0                     \n",
      " AMOUNT_RUB_CLO_PRC         | 0.0                   \n",
      " PRC_ACCEPTS_A_EMAIL_LINK   | 0.0                   \n",
      " APP_REGISTR_RGN_CODE       | -1.0                  \n",
      " PRC_ACCEPTS_A_POS          | 0.0                   \n",
      " PRC_ACCEPTS_A_TK           | 0.0                   \n",
      " TURNOVER_DYNAMIC_IL_1M     | 0.0                   \n",
      " CNT_TRAN_AUT_TENDENCY1M    | -1.0                  \n",
      " SUM_TRAN_AUT_TENDENCY1M    | -1.0                  \n",
      " AMOUNT_RUB_SUP_PRC         | 0.0                   \n",
      " PRC_ACCEPTS_A_AMOBILE      | 0.0                   \n",
      " SUM_TRAN_AUT_TENDENCY3M    | -1.0                  \n",
      " PRC_ACCEPTS_TK             | 0.0                   \n",
      " PRC_ACCEPTS_A_MTP          | 0.0                   \n",
      " REST_DYNAMIC_FDEP_1M       | 0.0                   \n",
      " CNT_TRAN_AUT_TENDENCY3M    | -1.0                  \n",
      " CNT_ACCEPTS_TK             | 0.0                   \n",
      " REST_DYNAMIC_SAVE_3M       | 0.0                   \n",
      " CR_PROD_CNT_VCU            | 0                     \n",
      " REST_AVG_CUR               | 19069.6917166667      \n",
      " CNT_TRAN_MED_TENDENCY1M    | -1.0                  \n",
      " AMOUNT_RUB_NAS_PRC         | 0.0                   \n",
      " TRANS_COUNT_SUP_PRC        | 0.0                   \n",
      " CNT_TRAN_CLO_TENDENCY1M    | -1.0                  \n",
      " SUM_TRAN_MED_TENDENCY1M    | -1.0                  \n",
      " PRC_ACCEPTS_A_ATM          | 0.0                   \n",
      " PRC_ACCEPTS_MTP            | 0.0                   \n",
      " TRANS_COUNT_NAS_PRC        | 0.0                   \n",
      " CNT_ACCEPTS_MTP            | 0.0                   \n",
      " CR_PROD_CNT_TOVR           | 1                     \n",
      " CR_PROD_CNT_PIL            | 0                     \n",
      " SUM_TRAN_CLO_TENDENCY1M    | -1.0                  \n",
      " TURNOVER_CC                | 0.0                   \n",
      " TRANS_COUNT_ATM_PRC        | 0.981818181818182     \n",
      " AMOUNT_RUB_ATM_PRC         | 0.9264718189135429    \n",
      " TURNOVER_PAYM              | 0.0                   \n",
      " AGE                        | 324                   \n",
      " CNT_TRAN_MED_TENDENCY3M    | -1.0                  \n",
      " CR_PROD_CNT_CC             | 0                     \n",
      " SUM_TRAN_MED_TENDENCY3M    | -1.0                  \n",
      " REST_DYNAMIC_FDEP_3M       | 0.0                   \n",
      " REST_DYNAMIC_IL_1M         | 0.0                   \n",
      " SUM_TRAN_CLO_TENDENCY3M    | -1.0                  \n",
      " LDEAL_TENOR_MAX            | -1.0                  \n",
      " LDEAL_YQZ_CHRG             | -1.0                  \n",
      " CR_PROD_CNT_CCFP           | 0                     \n",
      " DEAL_YQZ_IR_MAX            | -1.0                  \n",
      " LDEAL_YQZ_COM              | -1.0                  \n",
      " DEAL_YQZ_IR_MIN            | -1.0                  \n",
      " CNT_TRAN_CLO_TENDENCY3M    | -1.0                  \n",
      " REST_DYNAMIC_CUR_1M        | 0.139327197286461     \n",
      " REST_AVG_PAYM              | 0.0                   \n",
      " LDEAL_TENOR_MIN            | -1.0                  \n",
      " LDEAL_AMT_MONTH            | -1.0                  \n",
      " LDEAL_GRACE_DAYS_PCT_MED   | 0.0                   \n",
      " REST_DYNAMIC_CUR_3M        | 0.24404241658152398   \n",
      " CNT_TRAN_SUP_TENDENCY3M    | -1.0                  \n",
      " TURNOVER_DYNAMIC_CUR_1M    | 0.14429972251526998   \n",
      " REST_DYNAMIC_PAYM_3M       | 0.0                   \n",
      " SUM_TRAN_SUP_TENDENCY3M    | -1.0                  \n",
      " REST_DYNAMIC_IL_3M         | 0.0                   \n",
      " CNT_TRAN_ATM_TENDENCY3M    | 0.351851851851852     \n",
      " CNT_TRAN_ATM_TENDENCY1M    | 0.166666666666667     \n",
      " TURNOVER_DYNAMIC_IL_3M     | 0.0                   \n",
      " SUM_TRAN_ATM_TENDENCY3M    | 0.329320637235633     \n",
      " DEAL_GRACE_DAYS_ACC_S1X1   | 0.0                   \n",
      " AVG_PCT_MONTH_TO_PCLOSE    | -1.0                  \n",
      " DEAL_YWZ_IR_MIN            | 45.0                  \n",
      " SUM_TRAN_SUP_TENDENCY1M    | -1.0                  \n",
      " DEAL_YWZ_IR_MAX            | 45.0                  \n",
      " SUM_TRAN_ATM_TENDENCY1M    | 0.16790105289165602   \n",
      " REST_DYNAMIC_PAYM_1M       | 0.0                   \n",
      " CNT_TRAN_SUP_TENDENCY1M    | -1.0                  \n",
      " DEAL_GRACE_DAYS_ACC_AVG    | 0.0                   \n",
      " TURNOVER_DYNAMIC_CUR_3M    | 0.30374965665416803   \n",
      " MAX_PCLOSE_DATE            | -1.0                  \n",
      " LDEAL_YQZ_PC               | -1.0                  \n",
      " CLNT_SETUP_TENOR           | 5.48000105784548      \n",
      " DEAL_GRACE_DAYS_ACC_MAX    | 0.0                   \n",
      " TURNOVER_DYNAMIC_PAYM_3M   | 0.0                   \n",
      " LDEAL_DELINQ_PER_MAXYQZ    | -1.0                  \n",
      " TURNOVER_DYNAMIC_PAYM_1M   | 0.0                   \n",
      " CLNT_SALARY_VALUE          | -1.0                  \n",
      " TRANS_AMOUNT_TENDENCY3M    | 0.305106289785464     \n",
      " MED_DEBT_PRC_YQZ           | -1.0                  \n",
      " TRANS_CNT_TENDENCY3M       | 0.34545454545454496   \n",
      " LDEAL_USED_AMT_AVG_YQZ     | -1.0                  \n",
      " REST_DYNAMIC_CC_1M         | 0.0                   \n",
      " LDEAL_USED_AMT_AVG_YWZ     | 1.0                   \n",
      " TURNOVER_DYNAMIC_CC_1M     | 0.0                   \n",
      " AVG_PCT_DEBT_TO_DEAL_AMT   | -1.0                  \n",
      " LDEAL_ACT_DAYS_ACC_PCT_AVG | 0.0035236081747709704 \n",
      " REST_DYNAMIC_CC_3M         | 0.0                   \n",
      " MED_DEBT_PRC_YWZ           | 0.0                   \n",
      " LDEAL_ACT_DAYS_PCT_TR3     | 0.0                   \n",
      " LDEAL_ACT_DAYS_PCT_AAVG    | 0.0                   \n",
      " LDEAL_DELINQ_PER_MAXYWZ    | 0.0                   \n",
      " TURNOVER_DYNAMIC_CC_3M     | 0.0                   \n",
      " LDEAL_ACT_DAYS_PCT_TR      | 0.0                   \n",
      " LDEAL_ACT_DAYS_PCT_TR4     | 0.0                   \n",
      " LDEAL_ACT_DAYS_PCT_CURR    | 0.0                   \n",
      " TARGET                     | 0                     \n",
      "only showing top 1 row\n",
      "\n"
     ]
    }
   ],
   "source": [
    "trainCleaned.show(1, 0, true)"
   ]
  },
  {
   "cell_type": "code",
   "execution_count": 79,
   "metadata": {},
   "outputs": [
    {
     "name": "stdout",
     "output_type": "stream",
     "text": [
      "root\n",
      " |-- ID: integer (nullable = true)\n",
      " |-- CR_PROD_CNT_IL: integer (nullable = true)\n",
      " |-- AMOUNT_RUB_CLO_PRC: double (nullable = true)\n",
      " |-- PRC_ACCEPTS_A_EMAIL_LINK: double (nullable = true)\n",
      " |-- APP_REGISTR_RGN_CODE: double (nullable = true)\n",
      " |-- PRC_ACCEPTS_A_POS: double (nullable = true)\n",
      " |-- PRC_ACCEPTS_A_TK: double (nullable = true)\n",
      " |-- TURNOVER_DYNAMIC_IL_1M: double (nullable = true)\n",
      " |-- CNT_TRAN_AUT_TENDENCY1M: double (nullable = true)\n",
      " |-- SUM_TRAN_AUT_TENDENCY1M: double (nullable = true)\n",
      " |-- AMOUNT_RUB_SUP_PRC: double (nullable = true)\n",
      " |-- PRC_ACCEPTS_A_AMOBILE: double (nullable = true)\n",
      " |-- SUM_TRAN_AUT_TENDENCY3M: double (nullable = true)\n",
      " |-- PRC_ACCEPTS_TK: double (nullable = true)\n",
      " |-- PRC_ACCEPTS_A_MTP: double (nullable = true)\n",
      " |-- REST_DYNAMIC_FDEP_1M: double (nullable = true)\n",
      " |-- CNT_TRAN_AUT_TENDENCY3M: double (nullable = true)\n",
      " |-- CNT_ACCEPTS_TK: double (nullable = true)\n",
      " |-- REST_DYNAMIC_SAVE_3M: double (nullable = true)\n",
      " |-- CR_PROD_CNT_VCU: integer (nullable = true)\n",
      " |-- REST_AVG_CUR: double (nullable = true)\n",
      " |-- CNT_TRAN_MED_TENDENCY1M: double (nullable = true)\n",
      " |-- AMOUNT_RUB_NAS_PRC: double (nullable = true)\n",
      " |-- TRANS_COUNT_SUP_PRC: double (nullable = true)\n",
      " |-- CNT_TRAN_CLO_TENDENCY1M: double (nullable = true)\n",
      " |-- SUM_TRAN_MED_TENDENCY1M: double (nullable = true)\n",
      " |-- PRC_ACCEPTS_A_ATM: double (nullable = true)\n",
      " |-- PRC_ACCEPTS_MTP: double (nullable = true)\n",
      " |-- TRANS_COUNT_NAS_PRC: double (nullable = true)\n",
      " |-- CNT_ACCEPTS_MTP: double (nullable = true)\n",
      " |-- CR_PROD_CNT_TOVR: integer (nullable = true)\n",
      " |-- CR_PROD_CNT_PIL: integer (nullable = true)\n",
      " |-- SUM_TRAN_CLO_TENDENCY1M: double (nullable = true)\n",
      " |-- TURNOVER_CC: double (nullable = true)\n",
      " |-- TRANS_COUNT_ATM_PRC: double (nullable = true)\n",
      " |-- AMOUNT_RUB_ATM_PRC: double (nullable = true)\n",
      " |-- TURNOVER_PAYM: double (nullable = true)\n",
      " |-- AGE: integer (nullable = true)\n",
      " |-- CNT_TRAN_MED_TENDENCY3M: double (nullable = true)\n",
      " |-- CR_PROD_CNT_CC: integer (nullable = true)\n",
      " |-- SUM_TRAN_MED_TENDENCY3M: double (nullable = true)\n",
      " |-- REST_DYNAMIC_FDEP_3M: double (nullable = true)\n",
      " |-- REST_DYNAMIC_IL_1M: double (nullable = true)\n",
      " |-- SUM_TRAN_CLO_TENDENCY3M: double (nullable = true)\n",
      " |-- LDEAL_TENOR_MAX: double (nullable = true)\n",
      " |-- LDEAL_YQZ_CHRG: double (nullable = true)\n",
      " |-- CR_PROD_CNT_CCFP: integer (nullable = true)\n",
      " |-- DEAL_YQZ_IR_MAX: double (nullable = true)\n",
      " |-- LDEAL_YQZ_COM: double (nullable = true)\n",
      " |-- DEAL_YQZ_IR_MIN: double (nullable = true)\n",
      " |-- CNT_TRAN_CLO_TENDENCY3M: double (nullable = true)\n",
      " |-- REST_DYNAMIC_CUR_1M: double (nullable = true)\n",
      " |-- REST_AVG_PAYM: double (nullable = true)\n",
      " |-- LDEAL_TENOR_MIN: double (nullable = true)\n",
      " |-- LDEAL_AMT_MONTH: double (nullable = true)\n",
      " |-- LDEAL_GRACE_DAYS_PCT_MED: double (nullable = true)\n",
      " |-- REST_DYNAMIC_CUR_3M: double (nullable = true)\n",
      " |-- CNT_TRAN_SUP_TENDENCY3M: double (nullable = true)\n",
      " |-- TURNOVER_DYNAMIC_CUR_1M: double (nullable = true)\n",
      " |-- REST_DYNAMIC_PAYM_3M: double (nullable = true)\n",
      " |-- SUM_TRAN_SUP_TENDENCY3M: double (nullable = true)\n",
      " |-- REST_DYNAMIC_IL_3M: double (nullable = true)\n",
      " |-- CNT_TRAN_ATM_TENDENCY3M: double (nullable = true)\n",
      " |-- CNT_TRAN_ATM_TENDENCY1M: double (nullable = true)\n",
      " |-- TURNOVER_DYNAMIC_IL_3M: double (nullable = true)\n",
      " |-- SUM_TRAN_ATM_TENDENCY3M: double (nullable = true)\n",
      " |-- DEAL_GRACE_DAYS_ACC_S1X1: double (nullable = true)\n",
      " |-- AVG_PCT_MONTH_TO_PCLOSE: double (nullable = true)\n",
      " |-- DEAL_YWZ_IR_MIN: double (nullable = true)\n",
      " |-- SUM_TRAN_SUP_TENDENCY1M: double (nullable = true)\n",
      " |-- DEAL_YWZ_IR_MAX: double (nullable = true)\n",
      " |-- SUM_TRAN_ATM_TENDENCY1M: double (nullable = true)\n",
      " |-- REST_DYNAMIC_PAYM_1M: double (nullable = true)\n",
      " |-- CNT_TRAN_SUP_TENDENCY1M: double (nullable = true)\n",
      " |-- DEAL_GRACE_DAYS_ACC_AVG: double (nullable = true)\n",
      " |-- TURNOVER_DYNAMIC_CUR_3M: double (nullable = true)\n",
      " |-- MAX_PCLOSE_DATE: double (nullable = true)\n",
      " |-- LDEAL_YQZ_PC: double (nullable = true)\n",
      " |-- CLNT_SETUP_TENOR: double (nullable = true)\n",
      " |-- DEAL_GRACE_DAYS_ACC_MAX: double (nullable = true)\n",
      " |-- TURNOVER_DYNAMIC_PAYM_3M: double (nullable = true)\n",
      " |-- LDEAL_DELINQ_PER_MAXYQZ: double (nullable = true)\n",
      " |-- TURNOVER_DYNAMIC_PAYM_1M: double (nullable = true)\n",
      " |-- CLNT_SALARY_VALUE: double (nullable = true)\n",
      " |-- TRANS_AMOUNT_TENDENCY3M: double (nullable = true)\n",
      " |-- MED_DEBT_PRC_YQZ: double (nullable = true)\n",
      " |-- TRANS_CNT_TENDENCY3M: double (nullable = true)\n",
      " |-- LDEAL_USED_AMT_AVG_YQZ: double (nullable = true)\n",
      " |-- REST_DYNAMIC_CC_1M: double (nullable = true)\n",
      " |-- LDEAL_USED_AMT_AVG_YWZ: double (nullable = true)\n",
      " |-- TURNOVER_DYNAMIC_CC_1M: double (nullable = true)\n",
      " |-- AVG_PCT_DEBT_TO_DEAL_AMT: double (nullable = true)\n",
      " |-- LDEAL_ACT_DAYS_ACC_PCT_AVG: double (nullable = true)\n",
      " |-- REST_DYNAMIC_CC_3M: double (nullable = true)\n",
      " |-- MED_DEBT_PRC_YWZ: double (nullable = true)\n",
      " |-- LDEAL_ACT_DAYS_PCT_TR3: double (nullable = true)\n",
      " |-- LDEAL_ACT_DAYS_PCT_AAVG: double (nullable = true)\n",
      " |-- LDEAL_DELINQ_PER_MAXYWZ: double (nullable = true)\n",
      " |-- TURNOVER_DYNAMIC_CC_3M: double (nullable = true)\n",
      " |-- LDEAL_ACT_DAYS_PCT_TR: double (nullable = true)\n",
      " |-- LDEAL_ACT_DAYS_PCT_TR4: double (nullable = true)\n",
      " |-- LDEAL_ACT_DAYS_PCT_CURR: double (nullable = true)\n",
      " |-- TARGET: integer (nullable = true)\n",
      "\n"
     ]
    }
   ],
   "source": [
    "trainCleaned.printSchema"
   ]
  },
  {
   "cell_type": "code",
   "execution_count": 108,
   "metadata": {},
   "outputs": [
    {
     "data": {
      "text/plain": [
       "testCleaned = [ID: int, CR_PROD_CNT_IL: int ... 100 more fields]\n"
      ]
     },
     "metadata": {},
     "output_type": "display_data"
    },
    {
     "data": {
      "text/plain": [
       "[ID: int, CR_PROD_CNT_IL: int ... 100 more fields]"
      ]
     },
     "execution_count": 108,
     "metadata": {},
     "output_type": "execute_result"
    }
   ],
   "source": [
    "var testCleaned = test\n",
    "    .drop(droppedCols: _*)\n",
    "    .na.fill(-1.0)"
   ]
  },
  {
   "cell_type": "code",
   "execution_count": 109,
   "metadata": {},
   "outputs": [],
   "source": [
    "import org.apache.spark.ml.classification.GBTClassifier\n",
    "import org.apache.spark.ml.feature.VectorAssembler\n",
    "import org.apache.spark.ml.Pipeline\n",
    "import org.apache.spark.ml.feature.StringIndexer\n",
    "import org.apache.spark.ml.feature.OneHotEncoderEstimator\n",
    "import org.apache.spark.ml.classification.RandomForestClassifier\n",
    "import org.apache.spark.ml.linalg.Vector"
   ]
  },
  {
   "cell_type": "code",
   "execution_count": 123,
   "metadata": {},
   "outputs": [
    {
     "data": {
      "text/plain": [
       "assembler = vecAssembler_15070d92afae\n"
      ]
     },
     "metadata": {},
     "output_type": "display_data"
    },
    {
     "data": {
      "text/plain": [
       "vecAssembler_15070d92afae"
      ]
     },
     "execution_count": 123,
     "metadata": {},
     "output_type": "execute_result"
    }
   ],
   "source": [
    "val assembler = new VectorAssembler()\n",
    "    .setInputCols(trainCleaned.drop(\"TARGET\").columns)\n",
    "    .setOutputCol(\"features\")"
   ]
  },
  {
   "cell_type": "code",
   "execution_count": 124,
   "metadata": {},
   "outputs": [
    {
     "data": {
      "text/plain": [
       "gbt = gbtc_c309736de165\n"
      ]
     },
     "metadata": {},
     "output_type": "display_data"
    },
    {
     "data": {
      "text/plain": [
       "gbtc_c309736de165"
      ]
     },
     "execution_count": 124,
     "metadata": {},
     "output_type": "execute_result"
    }
   ],
   "source": [
    "val gbt = new GBTClassifier()\n",
    "    .setLabelCol(\"TARGET\")\n",
    "    .setFeaturesCol(\"features\")\n",
    "    .setMaxIter(10)\n",
    "    .setFeatureSubsetStrategy(\"auto\")"
   ]
  },
  {
   "cell_type": "code",
   "execution_count": 125,
   "metadata": {},
   "outputs": [
    {
     "data": {
      "text/plain": [
       "pipeline = pipeline_c0310113ce46\n"
      ]
     },
     "metadata": {},
     "output_type": "display_data"
    },
    {
     "data": {
      "text/plain": [
       "pipeline_c0310113ce46"
      ]
     },
     "execution_count": 125,
     "metadata": {},
     "output_type": "execute_result"
    }
   ],
   "source": [
    "val pipeline = new Pipeline()\n",
    "    .setStages(\n",
    "        Array(\n",
    "            assembler,\n",
    "            gbt\n",
    "        )\n",
    "    )"
   ]
  },
  {
   "cell_type": "code",
   "execution_count": 126,
   "metadata": {},
   "outputs": [
    {
     "data": {
      "text/plain": [
       "pipelineModel = pipeline_c0310113ce46\n"
      ]
     },
     "metadata": {},
     "output_type": "display_data"
    },
    {
     "data": {
      "text/plain": [
       "pipeline_c0310113ce46"
      ]
     },
     "execution_count": 126,
     "metadata": {},
     "output_type": "execute_result"
    }
   ],
   "source": [
    "val pipelineModel = pipeline.fit(trainCleaned)"
   ]
  },
  {
   "cell_type": "code",
   "execution_count": 127,
   "metadata": {},
   "outputs": [
    {
     "data": {
      "text/plain": [
       "testResult = [ID: int, CR_PROD_CNT_IL: int ... 104 more fields]\n"
      ]
     },
     "metadata": {},
     "output_type": "display_data"
    },
    {
     "data": {
      "text/plain": [
       "[ID: int, CR_PROD_CNT_IL: int ... 104 more fields]"
      ]
     },
     "execution_count": 127,
     "metadata": {},
     "output_type": "execute_result"
    }
   ],
   "source": [
    "val testResult = pipelineModel.transform(testCleaned)"
   ]
  },
  {
   "cell_type": "code",
   "execution_count": 129,
   "metadata": {},
   "outputs": [
    {
     "name": "stdout",
     "output_type": "stream",
     "text": [
      "+------+-------------------+\n",
      "|    id|             target|\n",
      "+------+-------------------+\n",
      "|519130| 0.1594891745651218|\n",
      "|234045|0.07250568074162655|\n",
      "+------+-------------------+\n",
      "only showing top 2 rows\n",
      "\n"
     ]
    }
   ],
   "source": [
    "predictions.select($\"ID\".alias(\"id\"), udf((v: Vector) => v(1)).apply($\"probability\").alias(\"target\")).show(2)"
   ]
  },
  {
   "cell_type": "code",
   "execution_count": 131,
   "metadata": {},
   "outputs": [],
   "source": [
    "testResult\n",
    "    .select($\"ID\".alias(\"id\"), udf((v: Vector) => v(1)).apply($\"probability\").alias(\"target\"))\n",
    "    .coalesce(1)\n",
    "    .write\n",
    "    .option(\"header\", \"true\")\n",
    "    .option(\"sep\", \"\\t\")\n",
    "    .mode(\"overwrite\")\n",
    "    .csv(\"lab05.csv\")"
   ]
  },
  {
   "cell_type": "code",
   "execution_count": 132,
   "metadata": {},
   "outputs": [
    {
     "data": {
      "text/plain": [
       "\"Found 2 items\n",
       "-rw-r--r--   3 aigul.sibgatullina aigul.sibgatullina          0 2023-10-25 22:24 /user/aigul.sibgatullina/lab05.csv/_SUCCESS\n",
       "-rw-r--r--   3 aigul.sibgatullina aigul.sibgatullina    1188617 2023-10-25 22:24 /user/aigul.sibgatullina/lab05.csv/part-00000-8a09e8fc-d8ae-4bd6-a8e1-80f59e774e8e-c000.csv\n",
       "\"\n"
      ]
     },
     "metadata": {},
     "output_type": "display_data"
    }
   ],
   "source": [
    "\"hdfs dfs -ls /user/aigul.sibgatullina/lab05.csv\".!!"
   ]
  },
  {
   "cell_type": "code",
   "execution_count": 133,
   "metadata": {},
   "outputs": [
    {
     "data": {
      "text/plain": [
       "res290: String = \"\"\n"
      ]
     },
     "metadata": {},
     "output_type": "display_data"
    }
   ],
   "source": [
    "\"hdfs dfs -cat /user/aigul.sibgatullina/lab05.csv/part-00000-8a09e8fc-d8ae-4bd6-a8e1-80f59e774e8e-c000.csv\".!!"
   ]
  },
  {
   "cell_type": "code",
   "execution_count": 134,
   "metadata": {},
   "outputs": [],
   "source": [
    "spark.stop()"
   ]
  },
  {
   "cell_type": "code",
   "execution_count": null,
   "metadata": {},
   "outputs": [],
   "source": []
  }
 ],
 "metadata": {
  "kernelspec": {
   "display_name": "Apache Toree - Scala",
   "language": "scala",
   "name": "apache_toree_scala"
  },
  "language_info": {
   "codemirror_mode": "text/x-scala",
   "file_extension": ".scala",
   "mimetype": "text/x-scala",
   "name": "scala",
   "pygments_lexer": "scala",
   "version": "2.11.12"
  }
 },
 "nbformat": 4,
 "nbformat_minor": 2
}
