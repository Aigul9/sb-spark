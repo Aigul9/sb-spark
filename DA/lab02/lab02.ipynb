{
 "cells": [
  {
   "cell_type": "code",
   "execution_count": 1,
   "metadata": {},
   "outputs": [
    {
     "name": "stdout",
     "output_type": "stream",
     "text": [
      "Welcome to\n",
      "      ____              __\n",
      "     / __/__  ___ _____/ /__\n",
      "    _\\ \\/ _ \\/ _ `/ __/  '_/\n",
      "   /__ / .__/\\_,_/_/ /_/\\_\\   version 2.4.7\n",
      "      /_/\n",
      "\n",
      "Using Python version 3.6.5 (default, Apr 29 2018 16:14:56)\n",
      "SparkSession available as 'spark'.\n"
     ]
    }
   ],
   "source": [
    "import os\n",
    "import sys\n",
    "os.environ[\"PYSPARK_PYTHON\"]='/opt/anaconda/envs/bd9/bin/python'\n",
    "os.environ[\"SPARK_HOME\"]='/usr/hdp/current/spark2-client'\n",
    "os.environ[\"PYSPARK_SUBMIT_ARGS\"]='--num-executors 4 pyspark-shell'\n",
    "\n",
    "spark_home = os.environ.get('SPARK_HOME', None)\n",
    "if not spark_home:\n",
    "    raise ValueError('SPARK_HOME environment variable is not set')\n",
    "\n",
    "sys.path.insert(0, os.path.join(spark_home, 'python'))\n",
    "sys.path.insert(0, os.path.join(spark_home, 'python/lib/py4j-0.10.7-src.zip'))\n",
    "exec(open(os.path.join(spark_home, 'python/pyspark/shell.py')).read())"
   ]
  },
  {
   "cell_type": "code",
   "execution_count": 25,
   "metadata": {},
   "outputs": [],
   "source": [
    "from pyspark import SparkConf\n",
    "from pyspark.ml import Pipeline\n",
    "from pyspark.ml.feature import Tokenizer, HashingTF, IDF, StopWordsRemover\n",
    "from pyspark.sql import SparkSession\n",
    "from pyspark.sql import functions as F\n",
    "from pyspark.sql.types import *\n",
    "from pyspark.sql.window import Window\n",
    "from pyspark import Row\n",
    "import json\n",
    "\n",
    "conf = SparkConf()\n",
    "\n",
    "spark = (SparkSession\n",
    "         .builder\n",
    "         .config(conf=conf)\n",
    "         .appName(\"test_\")\n",
    "         .getOrCreate())"
   ]
  },
  {
   "cell_type": "code",
   "execution_count": 146,
   "metadata": {},
   "outputs": [
    {
     "data": {
      "text/html": [
       "\n",
       "            <div>\n",
       "                <p><b>SparkSession - hive</b></p>\n",
       "                \n",
       "        <div>\n",
       "            <p><b>SparkContext</b></p>\n",
       "\n",
       "            <p><a href=\"http://spark-master-4.newprolab.com:4044\">Spark UI</a></p>\n",
       "\n",
       "            <dl>\n",
       "              <dt>Version</dt>\n",
       "                <dd><code>v2.4.7</code></dd>\n",
       "              <dt>Master</dt>\n",
       "                <dd><code>yarn</code></dd>\n",
       "              <dt>AppName</dt>\n",
       "                <dd><code>pyspark-shell</code></dd>\n",
       "            </dl>\n",
       "        </div>\n",
       "        \n",
       "            </div>\n",
       "        "
      ],
      "text/plain": [
       "<pyspark.sql.session.SparkSession at 0x7fcf8802b470>"
      ]
     },
     "execution_count": 146,
     "metadata": {},
     "output_type": "execute_result"
    }
   ],
   "source": [
    "spark"
   ]
  },
  {
   "cell_type": "code",
   "execution_count": 13,
   "metadata": {},
   "outputs": [],
   "source": [
    "dataset = spark.read.json(\"/labs/slaba02/DO_record_per_line.json\")"
   ]
  },
  {
   "cell_type": "code",
   "execution_count": 9,
   "metadata": {},
   "outputs": [
    {
     "name": "stdout",
     "output_type": "stream",
     "text": [
      "+--------------------+--------------------+---+----+--------------------+--------------+\n",
      "|                 cat|                desc| id|lang|                name|      provider|\n",
      "+--------------------+--------------------+---+----+--------------------+--------------+\n",
      "|3/business_manage...|This course intro...|  4|  en|Accounting Cycle:...|Canvas Network|\n",
      "|              11/law|This online cours...|  5|  en|American Counter ...|Canvas Network|\n",
      "+--------------------+--------------------+---+----+--------------------+--------------+\n",
      "only showing top 2 rows\n",
      "\n"
     ]
    }
   ],
   "source": [
    "dataset.show(2)"
   ]
  },
  {
   "cell_type": "code",
   "execution_count": 3,
   "metadata": {},
   "outputs": [],
   "source": [
    "courses = [[23126, u'en', u'Compass - powerful SASS library that makes your life easier'], [21617, u'en', u'Preparing for the AP* Computer Science A Exam \\u2014 Part 2'], [16627, u'es', u'Aprende Excel: Nivel Intermedio by Alfonso Rinsche'], [11556, u'es', u'Aprendizaje Colaborativo by UNID Universidad Interamericana para el Desarrollo'], [16704, u'ru', u'\\u041f\\u0440\\u043e\\u0433\\u0440\\u0430\\u043c\\u043c\\u0438\\u0440\\u043e\\u0432\\u0430\\u043d\\u0438\\u0435 \\u043d\\u0430 Lazarus'], [13702, u'ru', u'\\u041c\\u0430\\u0442\\u0435\\u043c\\u0430\\u0442\\u0438\\u0447\\u0435\\u0441\\u043a\\u0430\\u044f \\u044d\\u043a\\u043e\\u043d\\u043e\\u043c\\u0438\\u043a\\u0430']]"
   ]
  },
  {
   "cell_type": "code",
   "execution_count": 4,
   "metadata": {},
   "outputs": [
    {
     "data": {
      "text/plain": [
       "[23126, 21617, 16627, 11556, 16704, 13702]"
      ]
     },
     "execution_count": 4,
     "metadata": {},
     "output_type": "execute_result"
    }
   ],
   "source": [
    "ids = [course[0] for course in courses]\n",
    "ids"
   ]
  },
  {
   "cell_type": "code",
   "execution_count": 5,
   "metadata": {},
   "outputs": [
    {
     "data": {
      "text/plain": [
       "['en', 'en', 'es', 'es', 'ru', 'ru']"
      ]
     },
     "execution_count": 5,
     "metadata": {},
     "output_type": "execute_result"
    }
   ],
   "source": [
    "# Рекомендованные курсы должны быть того же языка\n",
    "languages = [course[1] for course in courses]\n",
    "languages"
   ]
  },
  {
   "cell_type": "code",
   "execution_count": 6,
   "metadata": {},
   "outputs": [],
   "source": [
    "tokenizer = Tokenizer(inputCol=\"desc\", outputCol=\"words\")"
   ]
  },
  {
   "cell_type": "code",
   "execution_count": 106,
   "metadata": {},
   "outputs": [
    {
     "name": "stdout",
     "output_type": "stream",
     "text": [
      "+--------------------+--------------------+---+----+--------------------+--------------+--------------------+\n",
      "|                 cat|                desc| id|lang|                name|      provider|               words|\n",
      "+--------------------+--------------------+---+----+--------------------+--------------+--------------------+\n",
      "|3/business_manage...|This course intro...|  4|  en|Accounting Cycle:...|Canvas Network|[this, course, in...|\n",
      "|              11/law|This online cours...|  5|  en|American Counter ...|Canvas Network|[this, online, co...|\n",
      "+--------------------+--------------------+---+----+--------------------+--------------+--------------------+\n",
      "only showing top 2 rows\n",
      "\n"
     ]
    }
   ],
   "source": [
    "tokenizer.transform(dataset).show(2)"
   ]
  },
  {
   "cell_type": "code",
   "execution_count": 7,
   "metadata": {},
   "outputs": [],
   "source": [
    "stop_words = StopWordsRemover.loadDefaultStopWords(\"russian\") + StopWordsRemover.loadDefaultStopWords(\"english\") + StopWordsRemover.loadDefaultStopWords(\"spanish\")"
   ]
  },
  {
   "cell_type": "code",
   "execution_count": 8,
   "metadata": {},
   "outputs": [],
   "source": [
    "swr = StopWordsRemover(inputCol=tokenizer.getOutputCol(), outputCol=\"words_filtered\", stopWords=stop_words)"
   ]
  },
  {
   "cell_type": "code",
   "execution_count": 9,
   "metadata": {},
   "outputs": [],
   "source": [
    "hasher = HashingTF(numFeatures=10000, binary=False, inputCol=swr.getOutputCol(), outputCol=\"word_vector_freq\")"
   ]
  },
  {
   "cell_type": "code",
   "execution_count": 11,
   "metadata": {},
   "outputs": [],
   "source": [
    "pipeline = Pipeline(stages=[\n",
    "    tokenizer,\n",
    "    swr,\n",
    "    hasher,\n",
    "    tfIdf\n",
    "])"
   ]
  },
  {
   "cell_type": "code",
   "execution_count": 14,
   "metadata": {},
   "outputs": [],
   "source": [
    "model = pipeline.fit(dataset)"
   ]
  },
  {
   "cell_type": "code",
   "execution_count": 15,
   "metadata": {},
   "outputs": [],
   "source": [
    "predictions = model.transform(dataset)"
   ]
  },
  {
   "cell_type": "code",
   "execution_count": 26,
   "metadata": {},
   "outputs": [],
   "source": [
    "joined = (\n",
    "    predictions\n",
    "    .alias(\"a\")\n",
    "    .where(F.col(\"id\").isin(ids))\n",
    "    .join(predictions.alias(\"b\"), \"lang\", \"inner\")\n",
    "    .where(\"a.id != b.id\")\n",
    "    .select(\"a.id\", \"b.id\", \"lang\", \"a.tfIdf\", \"b.tfIdf\", \"b.name\")\n",
    "    .cache()\n",
    ")"
   ]
  },
  {
   "cell_type": "code",
   "execution_count": 27,
   "metadata": {},
   "outputs": [
    {
     "name": "stdout",
     "output_type": "stream",
     "text": [
      "+-----+---+----+--------------------+--------------------+--------------------+\n",
      "|   id| id|lang|               tfIdf|               tfIdf|                name|\n",
      "+-----+---+----+--------------------+--------------------+--------------------+\n",
      "|21617|  4|  en|(10000,[213,360,5...|(10000,[36,42,63,...|Accounting Cycle:...|\n",
      "|21617|  5|  en|(10000,[213,360,5...|(10000,[32,222,29...|American Counter ...|\n",
      "|21617|  7|  en|(10000,[213,360,5...|(10000,[493,721,8...|Becoming a Dynami...|\n",
      "|21617|  8|  en|(10000,[213,360,5...|(10000,[32,65,115...|           Bioethics|\n",
      "|21617|  9|  en|(10000,[213,360,5...|(10000,[56,268,30...|College Foundatio...|\n",
      "|21617| 10|  en|(10000,[213,360,5...|(10000,[1045,2044...|Digital Literacies I|\n",
      "|21617| 11|  en|(10000,[213,360,5...|(10000,[87,157,15...|Digital Literacie...|\n",
      "|21617| 12|  en|(10000,[213,360,5...|(10000,[161,164,8...|Digital Tools for...|\n",
      "|21617| 13|  en|(10000,[213,360,5...|(10000,[26,1072,1...|Discover Your Val...|\n",
      "|21617| 14|  en|(10000,[213,360,5...|(10000,[63,145,23...|Enhancing Patient...|\n",
      "+-----+---+----+--------------------+--------------------+--------------------+\n",
      "only showing top 10 rows\n",
      "\n"
     ]
    }
   ],
   "source": [
    "joined.show(10)"
   ]
  },
  {
   "cell_type": "code",
   "execution_count": 28,
   "metadata": {},
   "outputs": [
    {
     "data": {
      "text/plain": [
       "54310"
      ]
     },
     "execution_count": 28,
     "metadata": {},
     "output_type": "execute_result"
    }
   ],
   "source": [
    "joined.count()"
   ]
  },
  {
   "cell_type": "code",
   "execution_count": 19,
   "metadata": {},
   "outputs": [],
   "source": [
    "def cosineSimilarity(v, u):\n",
    "    return float(v.dot(u) / (v.norm(2) * u.norm(2)))"
   ]
  },
  {
   "cell_type": "code",
   "execution_count": 20,
   "metadata": {},
   "outputs": [],
   "source": [
    "cosineSimilarityUDF = F.udf(cosineSimilarity, FloatType())"
   ]
  },
  {
   "cell_type": "code",
   "execution_count": 29,
   "metadata": {},
   "outputs": [],
   "source": [
    "joined = joined.withColumn(\"cos\", cosineSimilarityUDF(F.col(\"a.tfIdf\"), F.col(\"b.tfIdf\")))"
   ]
  },
  {
   "cell_type": "code",
   "execution_count": 30,
   "metadata": {},
   "outputs": [
    {
     "name": "stdout",
     "output_type": "stream",
     "text": [
      "+-----+---+----+--------------------+--------------------+--------------------+------------+\n",
      "|   id| id|lang|               tfIdf|               tfIdf|                name|         cos|\n",
      "+-----+---+----+--------------------+--------------------+--------------------+------------+\n",
      "|21617|  4|  en|(10000,[213,360,5...|(10000,[36,42,63,...|Accounting Cycle:...| 0.050420523|\n",
      "|21617|  5|  en|(10000,[213,360,5...|(10000,[32,222,29...|American Counter ...| 0.021780243|\n",
      "|21617|  7|  en|(10000,[213,360,5...|(10000,[493,721,8...|Becoming a Dynami...| 0.005189441|\n",
      "|21617|  8|  en|(10000,[213,360,5...|(10000,[32,65,115...|           Bioethics| 0.040991765|\n",
      "|21617|  9|  en|(10000,[213,360,5...|(10000,[56,268,30...|College Foundatio...|  0.08992993|\n",
      "|21617| 10|  en|(10000,[213,360,5...|(10000,[1045,2044...|Digital Literacies I| 0.016705962|\n",
      "|21617| 11|  en|(10000,[213,360,5...|(10000,[87,157,15...|Digital Literacie...|  0.03036655|\n",
      "|21617| 12|  en|(10000,[213,360,5...|(10000,[161,164,8...|Digital Tools for...|0.0092410045|\n",
      "|21617| 13|  en|(10000,[213,360,5...|(10000,[26,1072,1...|Discover Your Val...|  0.02609958|\n",
      "|21617| 14|  en|(10000,[213,360,5...|(10000,[63,145,23...|Enhancing Patient...| 0.025094932|\n",
      "+-----+---+----+--------------------+--------------------+--------------------+------------+\n",
      "only showing top 10 rows\n",
      "\n"
     ]
    }
   ],
   "source": [
    "joined.show(10)"
   ]
  },
  {
   "cell_type": "code",
   "execution_count": 46,
   "metadata": {},
   "outputs": [],
   "source": [
    "df_res = (\n",
    "    joined\n",
    "    .where(\"cos != 'NaN'\")\n",
    "    # по метрике (убывание) => по названию (лексикографически по возрастанию) => по возрастанию id.\n",
    "    .withColumn(\"rn\", F.row_number().over(Window.partitionBy(\"a.id\").orderBy(F.desc(\"cos\"), F.col(\"name\"), F.col(\"b.id\"))))\n",
    "    .where(\"rn <= 10\")\n",
    "    .groupBy(\"a.id\")\n",
    "    .agg(F.collect_list(\"b.id\").alias(\"id_list\"))\n",
    "    .collect()\n",
    ")"
   ]
  },
  {
   "cell_type": "code",
   "execution_count": 48,
   "metadata": {},
   "outputs": [],
   "source": [
    "json_data = {}"
   ]
  },
  {
   "cell_type": "code",
   "execution_count": 49,
   "metadata": {},
   "outputs": [],
   "source": [
    "for row in df_res:\n",
    "    json_data[row[\"id\"]] = row[\"id_list\"]"
   ]
  },
  {
   "cell_type": "code",
   "execution_count": 50,
   "metadata": {},
   "outputs": [
    {
     "data": {
      "text/plain": [
       "{23126: [13782, 13665, 24419, 20638, 2724, 25782, 2633, 2723, 13348, 15909],\n",
       " 16627: [11431, 12660, 12247, 5687, 17964, 23515, 12863, 9598, 13550, 17961],\n",
       " 13702: [864, 28074, 8300, 21079, 1110, 8313, 21025, 13057, 1144, 1041],\n",
       " 16704: [1236, 1365, 8186, 1164, 18331, 796, 20308, 875, 8207, 8154],\n",
       " 11556: [16488, 10447, 468, 22710, 19330, 13461, 10384, 23357, 13776, 21707],\n",
       " 21617: [21609, 21608, 21616, 21492, 21624, 21623, 21630, 21628, 21508, 21703]}"
      ]
     },
     "execution_count": 50,
     "metadata": {},
     "output_type": "execute_result"
    }
   ],
   "source": [
    "json_data"
   ]
  },
  {
   "cell_type": "code",
   "execution_count": 51,
   "metadata": {},
   "outputs": [],
   "source": [
    "with open(\"lab02.json\", \"w\") as f:\n",
    "    f.write(json.dumps(json_data))"
   ]
  },
  {
   "cell_type": "code",
   "execution_count": 52,
   "metadata": {},
   "outputs": [],
   "source": [
    "spark.stop()"
   ]
  },
  {
   "cell_type": "code",
   "execution_count": null,
   "metadata": {},
   "outputs": [],
   "source": []
  }
 ],
 "metadata": {
  "kernelspec": {
   "display_name": "Python 3",
   "language": "python",
   "name": "python3"
  },
  "language_info": {
   "codemirror_mode": {
    "name": "ipython",
    "version": 3
   },
   "file_extension": ".py",
   "mimetype": "text/x-python",
   "name": "python",
   "nbconvert_exporter": "python",
   "pygments_lexer": "ipython3",
   "version": "3.6.5"
  }
 },
 "nbformat": 4,
 "nbformat_minor": 2
}
